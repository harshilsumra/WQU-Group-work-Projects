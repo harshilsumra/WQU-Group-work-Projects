{
 "cells": [
  {
   "cell_type": "markdown",
   "id": "e483f4cf",
   "metadata": {},
   "source": [
    "## MSc652 Group 3433 GWP3"
   ]
  },
  {
   "cell_type": "markdown",
   "id": "9850fef0",
   "metadata": {},
   "source": [
    "| Full Legal Name             | Location (Country) | Email Address             |\n",
    "|----------------------------|--------------------|---------------------------|\n",
    "| Chiransh Gulati            | US                 | gulatichiransh@gmail.com  |\n",
    "| Harshil Sumra              | India              | harshilsumra1997@gmail.com|\n",
    "| Pritam Biswaranjan Datta   | India              | pritamdattaedu@gmail.com  |"
   ]
  },
  {
   "cell_type": "code",
   "execution_count": 325,
   "id": "24c81169",
   "metadata": {},
   "outputs": [],
   "source": [
    "import yfinance as yf\n",
    "import pandas as pd\n",
    "import numpy as np\n",
    "import seaborn as sns\n",
    "import matplotlib.pyplot as plt\n",
    "import cvxpy as cvx\n",
    "import cvxopt as opt\n",
    "from numpy.linalg import inv\n",
    "import datetime as dt\n",
    "import scipy.optimize as sco\n",
    "from scipy import stats\n",
    "from sklearn.preprocessing import MinMaxScaler\n",
    "import warnings\n",
    "warnings.filterwarnings('ignore')"
   ]
  },
  {
   "cell_type": "markdown",
   "id": "05133543",
   "metadata": {},
   "source": [
    "### General Functions:"
   ]
  },
  {
   "cell_type": "code",
   "execution_count": 326,
   "id": "a463068f",
   "metadata": {},
   "outputs": [],
   "source": [
    "def get_return_for_short_period(annualized_return, short_period_in_years):\n",
    "    # Calculate the scaling factor for the short period (geometric mean)\n",
    "    scaling_factor = (1 + annualized_return) ** (short_period_in_years) - 1\n",
    "    return scaling_factor\n",
    "\n",
    "def plot_weights(dat, title):\n",
    "    # Create a bar plot for the portfolio weights\n",
    "    n_assets = 5\n",
    "    plt.figure(figsize=(7, 3))\n",
    "    bars = plt.bar(range(n_assets), dat, align='center', color='orange')\n",
    "    plt.xticks(range(n_assets), tickers)\n",
    "    plt.xlabel('Asset')\n",
    "    plt.ylabel('Weight')\n",
    "    plt.title(title)\n",
    "    plt.grid(False)\n",
    "\n",
    "    # Add value labels to the bar plot\n",
    "    for bar in bars:\n",
    "        height = bar.get_height()\n",
    "        plt.text(bar.get_x() + bar.get_width() / 2, height, f\"{height:.2f}\",\n",
    "                 ha='center', va='top')\n",
    "\n",
    "    plt.show()\n",
    "\n",
    "def calculate_returns( S, percentageAsProduct=False ):\n",
    "    ret = np.zeros((S.shape[0]-1, S.shape[1]))\n",
    "    cum_sums = np.zeros(S.shape[1])\n",
    "    for j in range(0, S.shape[1]):\n",
    "        cum_return = 0\n",
    "        S_ret = np.zeros(S.shape[0]-1)\n",
    "        for i in range(0,S.shape[0]-1):\n",
    "            if percentageAsProduct==True:\n",
    "                S_ret[i] = 1+((S[i+1,j]-S[i,j])/S[i,j])\n",
    "            else:\n",
    "                S_ret[i] = ((S[i+1,j]-S[i,j])/S[i,j])\n",
    "        \n",
    "        cum_return = np.prod(S_ret)-1    \n",
    "        \n",
    "        cum_sums[j] = cum_return\n",
    "        ret[:, j] = S_ret\n",
    "    \n",
    "    return ret, cum_sums\n",
    "\n",
    "# Markowtiz Portfolio Function\n",
    "import cvxpy as cp\n",
    "def mean_variance_optimization(detoned_corr_matrix, expected_returns, risk_aversion=1.0):\n",
    "    num_assets = len(expected_returns)\n",
    "    \n",
    "    # Define the portfolio weights as optimization variables\n",
    "    w = cp.Variable(num_assets)\n",
    "    \n",
    "    # Objective function: Minimize portfolio risk (variance)\n",
    "    portfolio_risk = cp.quad_form(w, detoned_corr_matrix)\n",
    "    objective = cp.Minimize(portfolio_risk)\n",
    "    \n",
    "    # Constraints: Expected portfolio return and sum of weights equal to 1\n",
    "    expected_portfolio_return = cp.sum(w * expected_returns)\n",
    "    constraints = [\n",
    "        expected_portfolio_return >= 0.10,  # Require positive or zero expected return\n",
    "        cp.sum(w) == 1.0  # Fully invest in the portfolio (sum of weights equals 1)\n",
    "    ]\n",
    "    \n",
    "    # Create the optimization problem\n",
    "    problem = cp.Problem(objective, constraints)\n",
    "    \n",
    "    # Solve the optimization problem\n",
    "    try:\n",
    "        problem.solve()\n",
    "        if problem.status == cp.OPTIMAL:\n",
    "            # Get the optimized portfolio weights\n",
    "            portfolio_weights = w.value\n",
    "            return portfolio_weights\n",
    "        else:\n",
    "            print(\"Optimization problem not solved to optimality.\")\n",
    "            return None\n",
    "    except cp.SolverError:\n",
    "        print(\"Error in solving the optimization problem.\")\n",
    "        return None"
   ]
  },
  {
   "cell_type": "markdown",
   "id": "575c1dc2",
   "metadata": {},
   "source": [
    "### Denoising Functions:"
   ]
  },
  {
   "cell_type": "code",
   "execution_count": 327,
   "id": "d236f695",
   "metadata": {},
   "outputs": [],
   "source": [
    "#### Marcenko Pastur Probability Density Function\n",
    "from sklearn.neighbors import KernelDensity\n",
    "from scipy.optimize import minimize\n",
    "from scipy.linalg import block_diag\n",
    "from sklearn.covariance import LedoitWolf\n",
    "\n",
    "# eVal0: Eigenvalues before denoising.# eVec0: Eigenvectors before denoising.\n",
    "# eVal1: Eigenvalues after denoising. # eVec1: Eigenvectors after denoising.\n",
    "# corr1: Denoised correlation matrix. # var0: Variance before denoising.\n",
    "\n",
    "def denoise_OL(S, do_plot=True):\n",
    "    \n",
    "    np.argwhere( np.isnan(S) )\n",
    "    \n",
    "    # cor.shape = (1000,1000). If rowvar=1 - row represents a var, with observations in the columns.\n",
    "    cor = np.corrcoef(S, rowvar=0) \n",
    "    eVal0 , eVec0 = getPCA( cor ) \n",
    "    print(np.argwhere(np.isnan(np.diag(eVal0))))\n",
    "        \n",
    "    # code snippet 2.4\n",
    "    T = float(S.shape[0])\n",
    "    N = S.shape[1]\n",
    "    q = float(S.shape[0])/S.shape[1] #T/N\n",
    "    eMax0, var0 = findMaxEval(np.diag(eVal0), q, bWidth=.01)\n",
    "    nFacts0 = eVal0.shape[0]-np.diag(eVal0)[::-1].searchsorted(eMax0)\n",
    "    \n",
    "    if do_plot:\n",
    "        fig = plt.figure()\n",
    "        ax  = fig.add_subplot(111)\n",
    "        ax.hist(np.diag(eVal0), density = True, bins=100) #, normed = True)  #normed = True, \n",
    "        \n",
    "        pdf0 = mpPDF(var0, q=S.shape[0]/float(S.shape[1]), pts=N)\n",
    "        pdf1 = fitKDE( np.diag(eVal0), bWidth=.005) #empirical pdf\n",
    "        \n",
    "        #plt.plot(pdf1.keys(), pdf1, color='g') #no point in drawing this\n",
    "        plt.plot(pdf0.keys(), pdf0, color='r')\n",
    "        plt.show()\n",
    "    \n",
    "    # code snippet 2.5 - denoising by constant residual eigenvalue\n",
    "    corr1 = denoisedCorr(eVal0, eVec0, nFacts0)\n",
    "    eVal1, eVec1 = getPCA(corr1)\n",
    "    \n",
    "    return eVal0, eVec0, eVal1, eVec1, corr1, var0\n",
    "\n",
    "#snippet 2.1\n",
    "#Marcenko-Pastur pdf\n",
    "#q=T/N \n",
    "def mpPDF(var, q, pts):\n",
    "    eMin, eMax = var*(1-(1./q)**.5)**2, var*(1+(1./q)**.5)**2 # calc lambda_minus, lambda_plus\n",
    "    eVal = np.linspace(eMin, eMax, pts) #Return evenly spaced numbers over a specified interval. eVal='lambda'\n",
    "    #Note: 1.0/2*2 = 1.0 not 0.25=1.0/(2*2)\n",
    "    pdf = q/(2*np.pi*var*eVal)*((eMax-eVal)*(eVal-eMin))**.5 #np.allclose(np.flip((eMax-eVal)), (eVal-eMin))==True\n",
    "    pdf = pd.Series(pdf, index=eVal)\n",
    "    return pdf\n",
    "\n",
    "#snippet 2.2\n",
    "#Test Marcenko-Pastur Thm\n",
    "def getPCA(matrix):\n",
    "    # Get eVal, eVec from a Hermitian matrix\n",
    "    eVal, eVec = np.linalg.eig(matrix) #complex Hermitian (conjugate symmetric) or a real symmetric matrix.\n",
    "    indices = eVal.argsort()[::-1] #arguments for sorting eval desc\n",
    "    eVal,eVec = eVal[indices],eVec[:,indices]\n",
    "    eVal = np.diagflat(eVal) # identity matrix with eigenvalues as diagonal\n",
    "    return eVal,eVec\n",
    "    \n",
    "def fitKDE(obs, bWidth=.15, kernel='gaussian', x=None):\n",
    "    #Fit kernel to a series of obs, and derive the prob of obs\n",
    "    # x is the array of values on which the fit KDE will be evaluated\n",
    "    #print(len(obs.shape) == 1)\n",
    "    if len(obs.shape) == 1: obs = obs.reshape(-1,1)\n",
    "    kde = KernelDensity(kernel = kernel, bandwidth = bWidth).fit(obs)\n",
    "    #print(x is None)\n",
    "    if x is None: x = np.unique(obs).reshape(-1,1)\n",
    "    #print(len(x.shape))\n",
    "    if len(x.shape) == 1: x = x.reshape(-1,1)\n",
    "    logProb = kde.score_samples(x) # log(density) \n",
    "    pdf = pd.Series(np.exp(logProb), index=x.flatten())\n",
    "    return pdf\n",
    "\n",
    "#snippet 2.3\n",
    "def getRndCov(nCols, nFacts): #nFacts - contains signal out of nCols\n",
    "    w = np.random.normal(size=(nCols, nFacts))\n",
    "    cov = np.dot(w, w.T) #random cov matrix, however not full rank\n",
    "    cov += np.diag(np.random.uniform(size=nCols)) #full rank cov\n",
    "    return cov\n",
    "\n",
    "def cov2corr(cov):\n",
    "    # Derive the correlation matrix from a covariance matrix\n",
    "    std = np.sqrt(np.diag(cov))\n",
    "    corr = cov/np.outer(std,std)\n",
    "    corr[corr<-1], corr[corr>1] = -1,1 #for numerical errors\n",
    "    return corr\n",
    "    \n",
    "def corr2cov(corr, std):\n",
    "    cov = corr * np.outer(std, std)\n",
    "    return cov     \n",
    "    \n",
    "#snippet 2.4 - fitting the marcenko-pastur pdf - find variance\n",
    "#Fit error\n",
    "def errPDFs(var, eVal, q, bWidth, pts=1000):\n",
    "    var = var[0]\n",
    "    pdf0 = mpPDF(var, q, pts) #theoretical pdf\n",
    "    pdf1 = fitKDE(eVal, bWidth, x=pdf0.index.values) #empirical pdf\n",
    "    sse = np.sum((pdf1-pdf0)**2)\n",
    "    #print(\"sse:\"+str(sse))\n",
    "    return sse \n",
    "    \n",
    "# find max random eVal by fitting Marcenko's dist and return variance\n",
    "def findMaxEval(eVal, q, bWidth):\n",
    "    out = minimize(lambda *x: errPDFs(*x), x0=np.array(0.5), args=(eVal, q, bWidth), bounds=((1E-5, 1-1E-5),))\n",
    "    #print(\"found errPDFs\"+str(out['x'][0]))\n",
    "    if out['success']: var = out['x'][0]\n",
    "    else: var=1\n",
    "    eMax = var*(1+(1./q)**.5)**2\n",
    "    return eMax, var\n",
    "    \n",
    "# code snippet 2.5 - denoising by constant residual eigenvalue\n",
    "# Remove noise from corr by fixing random eigenvalue\n",
    "# Operation invariante to trace(Correlation)\n",
    "# The Trace of a square matrix is the _Sum_ of its eigenvalues\n",
    "# The Determinate of the matrix is the _Product_ of its eigenvalues\n",
    "def denoisedCorr(eVal, eVec, nFacts):\n",
    "    eVal_ = np.diag(eVal).copy()\n",
    "    eVal_[nFacts:] = eVal_[nFacts:].sum()/float(eVal_.shape[0] - nFacts) #all but 0..i values equals (1/N-i)sum(eVal_[i..N]))\n",
    "    eVal_ = np.diag(eVal_) #square matrix with eigenvalues as diagonal: eVal_.I\n",
    "    corr1 = np.dot(eVec, eVal_).dot(eVec.T) #Eigendecomposition of a symmetric matrix: S = QΛQT\n",
    "    corr1 = cov2corr(corr1) # Rescaling the correlation matrix to have 1s on the main diagonal\n",
    "    return corr1\n",
    "    \n",
    "# code snippet 2.6 - detoning\n",
    "# ref: mlfinlab/portfolio_optimization/risk_estimators.py\n",
    "# This method assumes a sorted set of eigenvalues and eigenvectors.\n",
    "# The market component is the first eigenvector with highest eigenvalue.\n",
    "# it returns singular correlation matrix: \n",
    "# \"the detoned correlation matrix is singualar, as a result of eliminating (at least) one eigenvector.\"\n",
    "# Page 32\n",
    "def eval_detoned_corr(corr, eigenvalues, eigenvectors, market_component=1):\n",
    "    \"\"\"\n",
    "    De-tones the de-noised correlation matrix by removing the market component.\n",
    "    The input is the eigenvalues and the eigenvectors of the correlation matrix and the number\n",
    "    of the first eigenvalue that is above the maximum theoretical eigenvalue and the number of\n",
    "    eigenvectors related to a market component.\n",
    "    :param corr: (np.array) Correlation matrix to detone.\n",
    "    :param eigenvalues: (np.array) Matrix with eigenvalues on the main diagonal.\n",
    "    :param eigenvectors: (float) Eigenvectors array.\n",
    "    :param market_component: (int) Number of fist eigevectors related to a market component. (1 by default)\n",
    "    :return: (np.array) De-toned correlation matrix.\n",
    "    \"\"\"\n",
    "    \n",
    "    # Getting the eigenvalues and eigenvectors related to market component\n",
    "    eigenvalues_mark = eigenvalues[:market_component, :market_component]\n",
    "    eigenvectors_mark = eigenvectors[:, :market_component]\n",
    "    \n",
    "    # Calculating the market component correlation\n",
    "    corr_mark = np.dot(eigenvectors_mark, eigenvalues_mark).dot(eigenvectors_mark.T)\n",
    "    \n",
    "    # Removing the market component from the de-noised correlation matrix\n",
    "    corr = corr - corr_mark\n",
    "    \n",
    "    # Rescaling the correlation matrix to have 1s on the main diagonal\n",
    "    corr = cov2corr(corr)\n",
    "    \n",
    "    return corr\n",
    "            \n",
    "def test_detone():\n",
    "    # ------ Test detone --------\n",
    "    cov_matrix = np.array([[0.01, 0.002, -0.001],\n",
    "                           [0.002, 0.04, -0.006],\n",
    "                           [-0.001, -0.006, 0.01]])\n",
    "    cor_test = np.corrcoef(cov_matrix, rowvar=0) \n",
    "    eVal_test, eVec_test = getPCA(cor_test)\n",
    "    eMax_test, var_test = findMaxEval(np.diag(eVal_test), q, bWidth=.01)\n",
    "    nFacts_test = eVal_test.shape[0]-np.diag(eVal_test)[::-1].searchsorted(eMax_test)   \n",
    "    corr1_test = denoisedCorr(eVal_test, eVec_test, nFacts_test) \n",
    "    eVal_denoised_test, eVec_denoised_test = getPCA(corr1_test)\n",
    "    corr_detoned_denoised_test = eval_detoned_corr(corr1_test, eVal_denoised_test, eVec_denoised_test)       \n",
    "    eVal_detoned_denoised_test, _ = getPCA(corr_detoned_denoised_test)     \n",
    "    np.diag(eVal_denoised_test)\n",
    "    np.diag(eVal_detoned_denoised_test)\n",
    "    \n",
    "    expected_detoned_denoised_corr = np.array([ 1.56236229e+00,  1.43763771e+00, -2.22044605e-16])    \n",
    "    \n",
    "    np.testing.assert_almost_equal(np.diag(eVal_detoned_denoised_test), expected_detoned_denoised_corr, decimal=4)\n",
    "    np.testing.assert_almost_equal(sum(np.diag(eVal_denoised_test)), sum(np.diag(eVal_detoned_denoised_test)), decimal=4 )"
   ]
  },
  {
   "cell_type": "markdown",
   "id": "6e941ed9",
   "metadata": {},
   "source": [
    "### Monte Carlo Functions:"
   ]
  },
  {
   "cell_type": "code",
   "execution_count": 328,
   "id": "29f59a9e",
   "metadata": {},
   "outputs": [],
   "source": [
    "from scipy.linalg import block_diag\n",
    "from sklearn.covariance import LedoitWolf\n",
    "\n",
    "# Code snippet 2.7\n",
    "#Generate a block-diagnoal covariance matrix and a vector of means\n",
    "def formBlockMatrix(nBlocks, bSize, bCorr):\n",
    "    block = np.ones( (bSize, bSize))*bCorr\n",
    "    block[range(bSize), range(bSize)] = 1 #diagonal is 1\n",
    "    corr = block_diag(*([block]*nBlocks))\n",
    "    return corr\n",
    "    \n",
    "def formTrueMatrix(nBlocks, bSize, bCorr):\n",
    "    corr0 = formBlockMatrix(nBlocks, bSize, bCorr)\n",
    "    corr0 = pd.DataFrame(corr0)\n",
    "    cols = corr0.columns.tolist()\n",
    "    np.random.shuffle(cols)\n",
    "    corr0 = corr0[cols].loc[cols].copy(deep=True)\n",
    "    std0 = np.random.uniform(.05, .2, corr0.shape[0])\n",
    "    cov0 = corr2cov(corr0, std0)\n",
    "    mu0 = np.random.normal(std0, std0, cov0.shape[0]).reshape(-1,1)\n",
    "    return mu0, cov0\n",
    "    \n",
    "def corr2cov(corr, std):\n",
    "    cov = corr * np.outer(std, std)\n",
    "    return cov\n",
    "    \n",
    "# Code snippet 2.8\n",
    "# generating the empirical covariance matrix\n",
    "def simCovMu(mu0, cov0, nObs, shrink=False):\n",
    "    x = np.random.multivariate_normal(mu0.flatten(), cov0, size = nObs)\n",
    "    #print(x.shape)\n",
    "    mu1 = x.mean(axis = 0).reshape(-1,1) #calc mean of columns of rand matrix\n",
    "    #print(mu1.shape)\n",
    "    if shrink: cov1 = LedoitWolf().fit(x).covariance_\n",
    "    else: cov1 = np.cov(x, rowvar=0)\n",
    "    return mu1, cov1\n",
    "\n",
    "# code snippet 2.9 \n",
    "# Denoising of the empirical covariance matrix\n",
    "# by constant residual eigenvalue method\n",
    "def deNoiseCov(cov0, q, bWidth):\n",
    "    corr0 = cov2corr(cov0)\n",
    "    eVal0, eVec0 = getPCA(corr0)\n",
    "    eMax0, var0 = findMaxEval(np.diag(eVal0), q, bWidth)\n",
    "    nFacts0 = eVal0.shape[0]-np.diag(eVal0)[::-1].searchsorted(eMax0)\n",
    "    corr1 = denoisedCorr(eVal0, eVec0, nFacts0) #denoising by constant residual eigenvalue method\n",
    "    cov1 = corr2cov(corr1, np.diag(cov0)**.5)\n",
    "    return cov1\n",
    "    \n",
    "# code snippet 2.10\n",
    "# Derive minimum-variance-portfolio\n",
    "# Returns a column vector of percentage allocations\n",
    "# should be subject to lagrangian constraints:\n",
    "# 1. lambda_1*(sum(expectation(x_i)*x_i) - d = 0\n",
    "# 2. lambda_2*(sum(x_i - 1))=0\n",
    "# where d is expected rate of return\n",
    "# w*=C^−1*μ/I.T*C^−1*μ - is minimum-variance-portfolio\n",
    " #short sales are allowed\n",
    "def optPort(cov, mu = None):\n",
    "    inv = np.linalg.inv(cov) #The precision matrix: contains information about the partial correlation between variables,\n",
    "    #  the covariance between pairs i and j, conditioned on all other variables (https://www.mn.uio.no/math/english/research/projects/focustat/publications_2/shatthik_barua_master2017.pdf)\n",
    "    ones = np.ones(shape = (inv.shape[0], 1)) # column vector 1's\n",
    "    if mu is None: \n",
    "        mu = ones\n",
    "    w = np.dot(inv, mu)\n",
    "    w /= np.dot(ones.T, w) # def: w = w / sum(w) ~ w is column vector\n",
    "    \n",
    "    return w\n",
    "    \n",
    "#optPort with long only curtesy of Brady Preston\n",
    "#requires: import cvxpy as cp\n",
    "'''def optPort(cov,mu=None):\n",
    "    n = cov.shape[0]\n",
    "    if mu is None:mu = np.abs(np.random.randn(n, 1))\n",
    "    w = cp.Variable(n)\n",
    "    risk = cp.quad_form(w, cov)\n",
    "    ret =  mu.T @ w\n",
    "    constraints = [cp.sum(w) == 1, w >= 0]\n",
    "    prob = cp.Problem(cp.Minimize(risk),constraints)\n",
    "    prob.solve(verbose=True)\n",
    "    return np.array(w.value.flat).round(4)'''\n",
    "\n",
    "#According to the question 'Tangent portfolio weights without short sales?' \n",
    "#there is no analytical solution to the GMV problem with no short-sales constraints\n",
    "#So - set the negative weights in WGV to 0, and make w sum up to 1\n",
    "def optPortLongOnly(cov, mu = None):\n",
    "    inv = np.linalg.inv(cov)\n",
    "    ones = np.ones(shape = (inv.shape[0], 1)) # column vector 1's\n",
    "    if mu is None: \n",
    "        mu = ones\n",
    "    w = np.dot(inv, mu)\n",
    "    w /= np.dot(ones.T, w) # def: w = w / sum(w) ~ w is column vector\n",
    "    w = w.flatten()\n",
    "    threshold = w < 0\n",
    "    wpluss = w.copy()\n",
    "    wpluss[threshold] = 0\n",
    "    wpluss = wpluss/np.sum(wpluss)\n",
    "    \n",
    "    return wpluss"
   ]
  },
  {
   "cell_type": "markdown",
   "id": "fef322d3",
   "metadata": {},
   "source": [
    "### Clustering Functions:"
   ]
  },
  {
   "cell_type": "code",
   "execution_count": 329,
   "id": "1d335636",
   "metadata": {
    "scrolled": false
   },
   "outputs": [],
   "source": [
    "from sklearn.cluster import KMeans\n",
    "from sklearn.metrics import silhouette_samples, silhouette_score\n",
    "from sklearn.utils import check_random_state\n",
    "from scipy.linalg import block_diag\n",
    "import matplotlib.pylab as plt\n",
    "import matplotlib\n",
    "'''\n",
    "Optimal Number of Clusters (ONC Algorithm)\n",
    "Detection of False Investment Strategies using Unsupervised Learning Methods\n",
    "https://papers.ssrn.com/sol3/papers.cfm?abstract_id=3167017\n",
    "'''\n",
    "\n",
    "'''codesnippet 4.1\n",
    " base clustering: Evaluate the correlation matrix as distance matrix, then find cluster; in the inner loop, \n",
    " we try different k=2..N  on which to cluster with kmeans for one given initialization,  and evaluate \n",
    " q = E(silhouette)/std(silhouette) for all clusters.  The outer loop repeats inner loop with initializations of \n",
    " _different centroid seeds_\n",
    " kmeans.labels_ is the assignment of members to the cluster\n",
    " [0 1 1 0 0]\n",
    " [1 0 0 1 1] is equivelant\n",
    "'''\n",
    "def clusterKMeansBase(corr0, maxNumClusters=10, n_init=10, debug=False):\n",
    "    corr0[corr0 > 1] = 1\n",
    "    dist_matrix = ((1-corr0.fillna(0))/2.)**.5\n",
    "    silh_coef_optimal = pd.Series(dtype='float64') #observations matrixs\n",
    "    kmeans, stat = None, None\n",
    "    maxNumClusters = min(maxNumClusters, int(np.floor(dist_matrix.shape[0]/2)))\n",
    "    print(\"maxNumClusters\"+str(maxNumClusters))\n",
    "    for init in range(0, n_init):\n",
    "    #The [outer] loop repeats the first loop multiple times, thereby obtaining different initializations. Ref: de Prado and Lewis (2018)\n",
    "    #DETECTION OF FALSE INVESTMENT STRATEGIES USING UNSUPERVISED LEARNING METHODS\n",
    "        for num_clusters in range(2, maxNumClusters+1):\n",
    "            #(maxNumClusters + 2 - num_clusters) # go in reverse order to view more sub-optimal solutions\n",
    "            kmeans_ = KMeans(n_clusters=num_clusters, n_init=10) #, random_state=3425) #n_jobs=None #n_jobs=None - use all CPUs\n",
    "            kmeans_ = kmeans_.fit(dist_matrix)\n",
    "            silh_coef = silhouette_samples(dist_matrix, kmeans_.labels_)\n",
    "            stat = (silh_coef.mean()/silh_coef.std(), silh_coef_optimal.mean()/silh_coef_optimal.std())\n",
    "\n",
    "            # If this metric better than the previous set as the optimal number of clusters\n",
    "            if np.isnan(stat[1]) or stat[0] > stat[1]:\n",
    "                silh_coef_optimal = silh_coef\n",
    "                kmeans = kmeans_\n",
    "                if debug==True:\n",
    "                    print(kmeans)\n",
    "                    print(stat)\n",
    "                    silhouette_avg = silhouette_score(dist_matrix, kmeans_.labels_)\n",
    "                    print(\"For n_clusters =\"+ str(num_clusters)+ \"The average silhouette_score is :\"+ str(silhouette_avg))\n",
    "                    print(\"********\")\n",
    "    \n",
    "    newIdx = np.argsort(kmeans.labels_)\n",
    "    #print(newIdx)\n",
    "\n",
    "    corr1 = corr0.iloc[newIdx] #reorder rows\n",
    "    corr1 = corr1.iloc[:, newIdx] #reorder columns\n",
    "\n",
    "    clstrs = {i:corr0.columns[np.where(kmeans.labels_==i)[0]].tolist() for i in np.unique(kmeans.labels_)} #cluster members\n",
    "    silh_coef_optimal = pd.Series(silh_coef_optimal, index=dist_matrix.index)\n",
    "    \n",
    "    return corr1, clstrs, silh_coef_optimal\n",
    "    \n",
    "#codesnippet 4.2\n",
    "#Top level of clustering\n",
    "''' Improve number clusters using silh scores\n",
    "    :param corr_mat: (pd.DataFrame) Correlation matrix\n",
    "    :param clusters: (dict) Clusters elements\n",
    "    :param top_clusters: (dict) Improved clusters elements\n",
    "    :return: (tuple) [ordered correlation matrix, clusters, silh scores]\n",
    "'''\n",
    "def makeNewOutputs(corr0, clstrs, clstrs2):\n",
    "    clstrsNew, newIdx = {}, []\n",
    "    for i in clstrs.keys():\n",
    "        clstrsNew[len(clstrsNew.keys())] = list(clstrs[i])\n",
    "    \n",
    "    for i in clstrs2.keys():\n",
    "        clstrsNew[len(clstrsNew.keys())] = list(clstrs2[i])\n",
    "    \n",
    "    newIdx = [j for i in clstrsNew for j in clstrsNew[i]]\n",
    "    corrNew = corr0.loc[newIdx, newIdx]\n",
    "    \n",
    "    dist = ((1 - corr0.fillna(0)) / 2.)**.5\n",
    "    kmeans_labels = np.zeros(len(dist.columns))\n",
    "    for i in clstrsNew.keys():\n",
    "        idxs = [dist.index.get_loc(k) for k in clstrsNew[i]]\n",
    "        kmeans_labels[idxs] = i\n",
    "    \n",
    "    silhNew = pd.Series(silhouette_samples(dist, kmeans_labels), index=dist.index)\n",
    "    \n",
    "    return corrNew, clstrsNew, silhNew\n",
    "\n",
    "''' Recursivly cluster\n",
    "    Typical output: e.g if there are 4 clusters:\n",
    ">>> _,_,_=clusterKMeansTop(corr0)\n",
    "redo cluster:[0, 1, 2, 5]\n",
    "redo cluster:[0, 1, 2]\n",
    "redo cluster:[1]\n",
    "redoCluster <=1:[1]\n",
    "newTstatMean > tStatMean\n",
    "newTstatMean > tStatMean\n",
    ">>>\n",
    "\n",
    "So it returns first time on base-case  >>>if len(redoClusters) <= 1\n",
    "Then sub-sequent returnes are after the tail-recurrsion\n",
    "'''\n",
    "def clusterKMeansTop(corr0: pd.DataFrame, maxNumClusters=None, n_init=10):\n",
    "    if maxNumClusters == None:\n",
    "        maxNumClusters = corr0.shape[1]-1\n",
    "        \n",
    "    corr1, clstrs, silh = clusterKMeansBase(corr0, maxNumClusters=min(maxNumClusters, corr0.shape[1]-1), n_init=10)#n_init)\n",
    "    print(\"clstrs length:\"+str(len(clstrs.keys())))\n",
    "    print(\"best clustr:\"+str(len(clstrs.keys())))\n",
    "    #for i in clstrs.keys():\n",
    "    #    print(\"std:\"+str(np.std(silh[clstrs[i]])))\n",
    "\n",
    "    clusterTstats = {i:np.mean(silh[clstrs[i]])/np.std(silh[clstrs[i]]) for i in clstrs.keys()}\n",
    "    tStatMean = sum(clusterTstats.values())/len(clusterTstats)\n",
    "    redoClusters = [i for i in clusterTstats.keys() if clusterTstats[i] < tStatMean]\n",
    "    #print(\"redo cluster:\"+str(redoClusters))\n",
    "    if len(redoClusters) <= 2:\n",
    "        print(\"If 2 or less clusters have a quality rating less than the average then stop.\")\n",
    "        print(\"redoCluster <=1:\"+str(redoClusters)+\" clstrs len:\"+str(len(clstrs.keys())))\n",
    "        return corr1, clstrs, silh\n",
    "    else:\n",
    "        keysRedo = [j for i in redoClusters for j in clstrs[i]]\n",
    "        corrTmp = corr0.loc[keysRedo, keysRedo]\n",
    "        _, clstrs2, _ = clusterKMeansTop(corrTmp, maxNumClusters=min(maxNumClusters, corrTmp.shape[1]-1), n_init=n_init)\n",
    "        print(\"clstrs2.len, stat:\"+str(len(clstrs2.keys())))\n",
    "        #Make new outputs, if necessary\n",
    "        dict_redo_clstrs = {i:clstrs[i] for i in clstrs.keys() if i not in redoClusters}\n",
    "        corrNew, clstrsNew, silhNew = makeNewOutputs(corr0, dict_redo_clstrs, clstrs2)\n",
    "        newTstatMean = np.mean([np.mean(silhNew[clstrsNew[i]])/np.std(silhNew[clstrsNew[i]]) for i in clstrsNew.keys()]) \n",
    "        if newTstatMean <= tStatMean:\n",
    "            print(\"newTstatMean <= tStatMean\"+str(newTstatMean)+ \" (len:newClst)\"+str(len(clstrsNew.keys()))+\" <= \"+str(tStatMean)+ \" (len:Clst)\"+str(len(clstrs.keys())))\n",
    "            return corr1, clstrs, silh\n",
    "        else: \n",
    "            print(\"newTstatMean > tStatMean\"+str(newTstatMean)+ \" (len:newClst)\"+str(len(clstrsNew.keys()))\n",
    "                  +\" > \"+str(tStatMean)+ \" (len:Clst)\"+str(len(clstrs.keys())))\n",
    "            return corrNew, clstrsNew, silhNew\n",
    "            #return corr1, clstrs, silh, stat\n",
    "             \n",
    "# codesnippet 4.3 - utility for monte-carlo simulation\n",
    "# Random block correlation matrix creation\n",
    "# Simulates a time-series of atleast 100 elements. \n",
    "# So each column is highly correlated for small sigma and less correlated for large sigma (standard deviation)\n",
    "#\n",
    "# two matrixes of N(0,sigma^2) rv added which results in variance=2*sigma^2\n",
    "def getCovSub(nObs, nCols, sigma, random_state=None):\n",
    "    #sub correl matrix\n",
    "    rng = check_random_state(random_state)\n",
    "    if nCols == 1:\n",
    "        return np.ones((1,1))\n",
    "    ar0 = rng.normal(size=(nObs, 1)) #array of normal rv\n",
    "    ar0 = np.repeat(ar0, nCols, axis=1) #matrix of columns repeating rv. Simulate time-series of at least 100 elements.\n",
    "    ar0 += rng.normal(loc=0, scale=sigma, size=ar0.shape) #add two rv X~Y~N(0,1), Z=X+Y~N(0+0, 1+1)=N(0,2)\n",
    "    ar0 = np.cov(ar0, rowvar=False) #ar0.shape = nCols x nCols\n",
    "    return ar0\n",
    "\n",
    "#generate a block random correlation matrix\n",
    "#\n",
    "# The last block in the matrix is going to be as large as possible\n",
    "# Controlling the size of the last block matrix can be done by inceasing minBlockSize\n",
    "# \n",
    "# parts is the size of the blocks. If nCols, nBlocks, minBlockSize = 6,3,1\n",
    "# then parts = [1,1,4] resulting in 1x1, 1x1, 4x4 block-covariance-matrixes\n",
    "# If block > 1x1 matrix the diagonal is 2 or 2*sigma as the variance of\n",
    "# covariance from getCovSub() is Z=X+Y => 2*sigma\n",
    "def getRndBlockCov(nCols, nBlocks, minBlockSize=1, sigma=1., random_state=None):\n",
    "    \n",
    "    print(\"getRndBlockCov:\"+str(minBlockSize))\n",
    "    rng = check_random_state(random_state)\n",
    "    parts = rng.choice(range(1, nCols-(minBlockSize-1)*nBlocks), nBlocks-1, replace=False)\n",
    "    parts.sort()\n",
    "    parts = np.append(parts, nCols-(minBlockSize-1)*nBlocks) #add nCols to list of parts, unless minBlockSize>1\n",
    "    parts = np.append(parts[0], np.diff(parts))-1+minBlockSize\n",
    "    print(\"block sizes:\"+str(parts))\n",
    "    cov=None\n",
    "    for nCols_ in parts:\n",
    "        cov_ = getCovSub(int(max(nCols_*(nCols_+1)/2., 100)), nCols_, sigma, random_state=rng)\n",
    "        if cov is None:\n",
    "            cov = cov_.copy()\n",
    "        else: \n",
    "            cov = block_diag(cov, cov_) #list of square matrix on larger matrix on the diagonal\n",
    "    \n",
    "    return cov\n",
    "\n",
    "# add two random covariance matrixes and return the correlation matrix as a dataframe. \n",
    "#\n",
    "# The first covariance matrix consists of nBlocks\n",
    "# and the second matrix consists of 1 block - which adds noice.\n",
    "# Note: noice is also added in each block matrix. Why is noice added 2 times?\n",
    "def randomBlockCorr(nCols, nBlocks, random_state=None, minBlockSize=1):\n",
    "    #Form block corr\n",
    "    rng = check_random_state(random_state)\n",
    "    \n",
    "    print(\"randomBlockCorr:\"+str(minBlockSize))\n",
    "    cov0 = getRndBlockCov(nCols, nBlocks, minBlockSize=minBlockSize, sigma=.5, random_state=rng)\n",
    "    cov1 = getRndBlockCov(nCols, 1, minBlockSize=minBlockSize, sigma=1., random_state=rng) #add noise\n",
    "    cov0 += cov1\n",
    "    corr0 = cov2corr(cov0)\n",
    "    corr0 = pd.DataFrame(corr0)\n",
    "    return corr0"
   ]
  },
  {
   "cell_type": "markdown",
   "id": "ea023188",
   "metadata": {},
   "source": [
    "### Portfolio Construction Functions:"
   ]
  },
  {
   "cell_type": "code",
   "execution_count": 330,
   "id": "517a9c16",
   "metadata": {},
   "outputs": [],
   "source": [
    "# -*- coding: utf-8 -*-\n",
    "from scipy.linalg import block_diag\n",
    "import matplotlib.pylab as plt\n",
    "import matplotlib.pyplot as mp1\n",
    "import seaborn as sns\n",
    "\n",
    "def minVarPort(cov):\n",
    "    return optPort(cov, mu = None)\n",
    "\n",
    "# code snippet 7.6 - function implementing the NCO algorithm\n",
    "# Long only portfolio uses allocate_cvo()\n",
    "# Method assumes input - detoned covariance matrix\n",
    "def optPort_nco(cov, mu=None, maxNumClusters=None):\n",
    "    cov = pd.DataFrame(cov)\n",
    "    if mu is not None:\n",
    "        mu = pd.Series(mu[:,0])\n",
    "    \n",
    "    corr1 = cov2corr(cov)\n",
    "    \n",
    "    # Optimal partition of clusters (step 1)\n",
    "    corr1, clstrs, _ = oc.clusterKMeansBase(corr1, maxNumClusters, n_init=10)\n",
    "    #wIntra = pd.DataFrame(0, index=cov.index, columns=clstrs.keys())\n",
    "    w_intra_clusters = pd.DataFrame(0, index=cov.index, columns=clstrs.keys())\n",
    "    for i in clstrs:\n",
    "        cov_cluster = cov.loc[clstrs[i], clstrs[i]].values\n",
    "        if mu is None:\n",
    "            mu_cluster = None\n",
    "        else: \n",
    "            mu_cluster = mu.loc[clstrs[i]].values.reshape(-1,1)\n",
    "        \n",
    "        #Long/Short\n",
    "        #w_intra_clusters.loc[clstrs[i],i] = mc.optPort(cov_cluster, mu_cluster).flatten()\n",
    "        \n",
    "        # Long only: Estimating the Convex Optimization Solution in a cluster (step 2)\n",
    "        w_intra_clusters.loc[clstrs[i], i] = allocate_cvo(cov_cluster, mu_cluster).flatten()        \n",
    "    \n",
    "    cov_inter_cluster = w_intra_clusters.T.dot(np.dot(cov, w_intra_clusters)) #reduce covariance matrix\n",
    "    mu_inter_cluster = (None if mu is None else w_intra_clusters.T.dot(mu))\n",
    "    \n",
    "    #Long/Short\n",
    "    #w_inter_clusters = pd.Series(mc.optPort(cov_inter_cluster, mu_inter_cluster).flatten(), index=cov_inter_cluster.index)\n",
    "    # Long only: Optimal allocations across the reduced covariance matrix (step 3)\n",
    "    w_inter_clusters = pd.Series(allocate_cvo(cov_inter_cluster, mu_inter_cluster).flatten(), index=cov_inter_cluster.index)    \n",
    "    \n",
    "    # Final allocations - dot-product of the intra-cluster and inter-cluster allocations (step 4)\n",
    "    nco = w_intra_clusters.mul(w_inter_clusters, axis=1).sum(axis=1).values.reshape(-1,1)\n",
    "    return nco\n",
    "    \n",
    "def allocate_cvo(cov, mu_vec=None):\n",
    "    \"\"\"\n",
    "    Estimates the Convex Optimization Solution (CVO).\n",
    "    Uses the covariance matrix and the mu - optimal solution.\n",
    "    If mu is the vector of expected values from variables, the result will be\n",
    "    a vector of weights with maximum Sharpe ratio.\n",
    "    If mu is a vector of ones, the result will be a vector of weights with\n",
    "    minimum variance.\n",
    "    :param cov: (np.array) Covariance matrix of the variables.\n",
    "    :param mu_vec: (np.array) Expected value of draws from the variables for maximum Sharpe ratio.\n",
    "                          None if outputting the minimum variance portfolio.\n",
    "    :return: (np.array) Weights for optimal allocation.\n",
    "    \"\"\"\n",
    "    \n",
    "    # Calculating the inverse covariance matrix\n",
    "    inv_cov = np.linalg.inv(cov)\n",
    "    \n",
    "    # Generating a vector of size of the inverted covariance matrix\n",
    "    ones = np.ones(shape=(inv_cov.shape[0], 1))\n",
    "    \n",
    "    if mu_vec is None:  # To output the minimum variance portfolio\n",
    "        mu_vec = ones\n",
    "    \n",
    "    # Calculating the analytical solution using CVO - weights\n",
    "    w_cvo = np.dot(inv_cov, mu_vec)\n",
    "    w_cvo /= np.dot(mu_vec.T, w_cvo)\n",
    "    \n",
    "    return w_cvo"
   ]
  },
  {
   "cell_type": "markdown",
   "id": "1315c891",
   "metadata": {},
   "source": [
    "### Back Testing Functions:"
   ]
  },
  {
   "cell_type": "code",
   "execution_count": 331,
   "id": "4f3d8a0c",
   "metadata": {},
   "outputs": [],
   "source": [
    "def generate_random_weights(df, l):\n",
    "    # Use the loop counter as a random seed value\n",
    "    np.random.seed()  # Resets the random seed to ensure different random numbers\n",
    "    seed_value = np.random.randint(0, 1000000)\n",
    "    np.random.seed(seed_value)\n",
    "    \n",
    "    random_weights = np.random.choice(l, size=(df.shape), replace=True)\n",
    "    random_weights = np.divide(random_weights, random_weights.sum(axis=1)[:, None])\n",
    "        \n",
    "    weights_df = pd.DataFrame(random_weights, index=df.index, columns=df.columns)\n",
    "    \n",
    "    return weights_df\n",
    "\n",
    "def simulate(assets_returns, assets_weights):\n",
    "    assets_weights = assets_weights.ffill()\n",
    "    pf_returns = assets_returns.add(1).mul(assets_weights.shift(1)).sum(axis=1).sub(1)\n",
    "    pf_returns.iloc[0] = 0  # first day return is 0, because we do not have weights for yesterday\n",
    "    return pf_returns\n",
    "\n",
    "def returns_to_equity(returns):\n",
    "    equity = returns.add(1).cumprod().sub(1)\n",
    "    return equity\n",
    "\n",
    "def estimated_sharpe_ratio(returns):\n",
    "    return returns.mean() / returns.std(ddof=1)\n",
    "\n",
    "def ann_estimated_sharpe_ratio(returns=None, periods=261, *, sr=None):\n",
    "    if sr is None:\n",
    "        sr = estimated_sharpe_ratio(returns)\n",
    "    sr = sr * np.sqrt(periods)\n",
    "    return sr\n",
    "\n",
    "def estimated_sharpe_ratio_stdev(returns=None, *, n=None, skew=None, kurtosis=None, sr=None):\n",
    "    if type(returns) != pd.DataFrame:\n",
    "        _returns = pd.DataFrame(returns)\n",
    "    else:\n",
    "        _returns = returns.copy()\n",
    "\n",
    "    if n is None:\n",
    "        n = len(_returns)\n",
    "    if skew is None:\n",
    "        skew = pd.Series(scipy_stats.skew(_returns), index=_returns.columns)\n",
    "    if kurtosis is None:\n",
    "        kurtosis = pd.Series(scipy_stats.kurtosis(_returns, fisher=False), index=_returns.columns)\n",
    "    if sr is None:\n",
    "        sr = estimated_sharpe_ratio(_returns)\n",
    "\n",
    "    sr_std = np.sqrt((1 + (0.5 * sr ** 2) - (skew * sr) + (((kurtosis - 3) / 4) * sr ** 2)) / (n - 1))\n",
    "\n",
    "    if type(returns) == pd.DataFrame:\n",
    "        sr_std = pd.Series(sr_std, index=returns.columns)\n",
    "    elif type(sr_std) not in (float, np.float64, pd.DataFrame):\n",
    "        sr_std = sr_std.values[0]\n",
    "\n",
    "    return sr_std\n",
    "\n",
    "def probabilistic_sharpe_ratio(returns=None, sr_benchmark=0.0, *, sr=None, sr_std=None):\n",
    "    if sr is None:\n",
    "        sr = estimated_sharpe_ratio(returns)\n",
    "    if sr_std is None:\n",
    "        sr_std = estimated_sharpe_ratio_stdev(returns, sr=sr)\n",
    "\n",
    "    psr = scipy_stats.norm.cdf((sr - sr_benchmark) / sr_std)\n",
    "\n",
    "    if type(returns) == pd.DataFrame:\n",
    "        psr = pd.Series(psr, index=returns.columns)\n",
    "    elif type(psr) not in (float, np.float64):\n",
    "        psr = psr[0]\n",
    "\n",
    "    return psr\n",
    "\n",
    "def min_track_record_length(returns=None, sr_benchmark=0.0, prob=0.95, *, n=None, sr=None, sr_std=None):\n",
    "    if n is None:\n",
    "        n = len(returns)\n",
    "    if sr is None:\n",
    "        sr = estimated_sharpe_ratio(returns)\n",
    "    if sr_std is None:\n",
    "        sr_std = estimated_sharpe_ratio_stdev(returns, sr=sr)\n",
    "\n",
    "    min_trl = 1 + (sr_std ** 2 * (n - 1)) * (scipy_stats.norm.ppf(prob) / (sr - sr_benchmark)) ** 2\n",
    "\n",
    "    if type(returns) == pd.DataFrame:\n",
    "        min_trl = pd.Series(min_trl, index=returns.columns)\n",
    "    elif type(min_trl) not in (float, np.float64):\n",
    "        min_trl = min_trl[0]\n",
    "\n",
    "    return min_trl\n",
    "\n",
    "def num_independent_trials(trials_returns=None, *, m=None, p=None):\n",
    "    if m is None:\n",
    "        m = trials_returns.shape[1]\n",
    "        \n",
    "    if p is None:\n",
    "        corr_matrix = trials_returns.corr()\n",
    "        p = corr_matrix.values[np.triu_indices_from(corr_matrix.values,1)].mean()\n",
    "        \n",
    "    n = p + (1 - p) * m\n",
    "    \n",
    "    n = int(n)+1  # round up\n",
    "    \n",
    "    return n\n",
    "\n",
    "def expected_maximum_sr(trials_returns=None, expected_mean_sr=0.0, *, independent_trials=None, trials_sr_std=None):\n",
    "    emc = 0.5772156649 # Euler-Mascheroni constant\n",
    "    \n",
    "    if independent_trials is None:\n",
    "        independent_trials = num_independent_trials(trials_returns)\n",
    "    \n",
    "    if trials_sr_std is None:\n",
    "        srs = estimated_sharpe_ratio(trials_returns)\n",
    "        trials_sr_std = srs.std()\n",
    "    \n",
    "    maxZ = (1 - emc) * scipy_stats.norm.ppf(1 - 1./independent_trials) + emc * scipy_stats.norm.ppf(1 - 1./(independent_trials * np.e))\n",
    "    expected_max_sr = expected_mean_sr + (trials_sr_std * maxZ)\n",
    "    \n",
    "    return expected_max_sr\n",
    "\n",
    "def deflated_sharpe_ratio(trials_returns=None, returns_selected=None, expected_mean_sr=0.0, *, expected_max_sr=None):\n",
    "    if expected_max_sr is None:\n",
    "        expected_max_sr = expected_maximum_sr(trials_returns, expected_mean_sr)\n",
    "        \n",
    "    dsr = probabilistic_sharpe_ratio(returns=returns_selected, sr_benchmark=expected_max_sr)\n",
    "\n",
    "    return dsr"
   ]
  },
  {
   "cell_type": "markdown",
   "id": "3f439cd4",
   "metadata": {},
   "source": [
    "### Step 2"
   ]
  },
  {
   "cell_type": "markdown",
   "id": "7e3cc08e",
   "metadata": {},
   "source": [
    "#### A: Picking the Best Portfolio from GWP#2"
   ]
  },
  {
   "attachments": {
    "image.png": {
     "image/png": "[encoded data removed]"
    }
   },
   "cell_type": "markdown",
   "id": "e8acfc30",
   "metadata": {},
   "source": [
    "![image.png](attachment:image.png)"
   ]
  },
  {
   "cell_type": "markdown",
   "id": "01bfc0c2",
   "metadata": {},
   "source": [
    "The combination (Combine 3) of the original \"Optimal MV portfolio + Black Litterman (BL) + Kelly\" was the best portfolio in terms of the Sharpe Ratio, Returns and Std. Dev. Hence we start with the portfolio weight for the 5 stocks in the ratio of 23%, 6%, 48%, 5% and 18%"
   ]
  },
  {
   "cell_type": "markdown",
   "id": "fbeab527",
   "metadata": {},
   "source": [
    "#### B: Data Setup for the assignment"
   ]
  },
  {
   "cell_type": "code",
   "execution_count": 332,
   "id": "bdd7ba30",
   "metadata": {},
   "outputs": [
    {
     "name": "stdout",
     "output_type": "stream",
     "text": [
      "[*********************100%***********************]  5 of 5 completed\n"
     ]
    }
   ],
   "source": [
    "# Define the list of stock tickers\n",
    "#tickers = ['ADANIENT.NS', 'TCS.NS', 'HDFCBANK.NS', 'DRREDDY.NS', 'ASIANPAINT.NS']\n",
    "tickers = ['ASIANPAINT.NS', 'BAJAJFINSV.NS', 'DRREDDY.NS', 'HDFCBANK.NS', 'TCS.NS']\n",
    "\n",
    "# Define the start and end dates. This will download 120 days of data for each stock\n",
    "start_date = '2020-01-01'\n",
    "end_date = '2023-06-30'\n",
    "\n",
    "# Download historical price data\n",
    "data = yf.download(tickers, start=start_date, end=end_date, period='1d', auto_adjust=True)['Close']"
   ]
  },
  {
   "cell_type": "code",
   "execution_count": 333,
   "id": "ef75e95e",
   "metadata": {},
   "outputs": [
    {
     "name": "stdout",
     "output_type": "stream",
     "text": [
      "ASIANPAINT.NS    0.227922\n",
      "BAJAJFINSV.NS    0.223339\n",
      "DRREDDY.NS       0.207744\n",
      "HDFCBANK.NS      0.127856\n",
      "TCS.NS           0.167451\n",
      "dtype: float64\n"
     ]
    }
   ],
   "source": [
    "# Calculate the daily returns\n",
    "act_returns = data.pct_change()\n",
    "act_returns = act_returns.dropna()  # Drop the first row as it will have NaN due to no previous value\n",
    "\n",
    "# Calculate the average daily return over the available data\n",
    "avg_dly_return = act_returns.mean()\n",
    "annualized_return = avg_dly_return * 252\n",
    "\n",
    "# Assign the expected returns to the variable in the code\n",
    "returns = np.array(annualized_return)\n",
    "print(annualized_return)"
   ]
  },
  {
   "cell_type": "code",
   "execution_count": 334,
   "id": "de79b86f",
   "metadata": {},
   "outputs": [
    {
     "name": "stdout",
     "output_type": "stream",
     "text": [
      "Expected Returns for 2 weeks:\n",
      "ASIANPAINT.NS: 0.0131\n",
      "BAJAJFINSV.NS: 0.0129\n",
      "DRREDDY.NS: 0.0121\n",
      "HDFCBANK.NS: 0.0077\n",
      "TCS.NS: 0.0099\n",
      "\n",
      "Expected Returns:\n",
      "[0.013121765943031383, 0.012881228023774893, 0.01205648420033456, 0.007668499774152737, 0.009878470900151592]\n"
     ]
    }
   ],
   "source": [
    "# Calculate the expected return for a 2-3 week period for each stock\n",
    "short_period_in_years_2_weeks = 16 / 252\n",
    "expected_returns_2_weeks = {}\n",
    "expected_returns = []\n",
    "# for stock, annualized_ret in annualized_return.items():\n",
    "#     expected_returns_2_weeks[stock] = get_return_for_short_period(annualized_ret, short_period_in_years_2_weeks)\n",
    "\n",
    "print(\"Expected Returns for 2 weeks:\")\n",
    "for stock, annualized_ret in annualized_return.items():\n",
    "    expected_return_2_weeks = get_return_for_short_period(annualized_ret, short_period_in_years_2_weeks)\n",
    "    expected_returns.append(expected_return_2_weeks)\n",
    "    print(f\"{stock}: {expected_return_2_weeks:.4f}\")\n",
    "\n",
    "print(\"\")\n",
    "print(\"Expected Returns:\")\n",
    "print(expected_returns)"
   ]
  },
  {
   "cell_type": "markdown",
   "id": "ee5ebc03",
   "metadata": {},
   "source": [
    "#### Step2 - Denoising (& Detoning) for the Portfolio"
   ]
  },
  {
   "cell_type": "code",
   "execution_count": 335,
   "id": "337051aa",
   "metadata": {},
   "outputs": [
    {
     "name": "stdout",
     "output_type": "stream",
     "text": [
      "[]\n"
     ]
    }
   ],
   "source": [
    "# Convert Close Prices to numpy array\n",
    "S_value = data.values\n",
    "S, _ = calculate_returns(S_value)\n",
    "actual_corr = act_returns.corr()\n",
    "\n",
    "# De-Noise\n",
    "eVal0, eVec0, eVal1, eVec1, denoised_corr, var0 = denoise_OL(S, False)\n",
    "# De-Tone\n",
    "detoned_corr = eval_detoned_corr(denoised_corr, eVal1, eVec1)\n",
    "denoised_corr_df = pd.DataFrame(denoised_corr, index=tickers, columns=tickers)"
   ]
  },
  {
   "cell_type": "code",
   "execution_count": 336,
   "id": "ff35e3df",
   "metadata": {},
   "outputs": [
    {
     "data": {
      "image/png": "[encoded data removed]",
      "text/plain": [
       "<Figure size 700x300 with 1 Axes>"
      ]
     },
     "metadata": {},
     "output_type": "display_data"
    },
    {
     "name": "stdout",
     "output_type": "stream",
     "text": [
      "Denoised portfolio weights:\n",
      "ASIANPAINT.NS: 0.1805\n",
      "BAJAJFINSV.NS: 0.1699\n",
      "DRREDDY.NS: 0.2902\n",
      "HDFCBANK.NS: 0.1842\n",
      "TCS.NS: 0.1752\n"
     ]
    }
   ],
   "source": [
    "# Example expected returns for the 5 stocks - replace with your actual data\n",
    "# Populating with the annualized return for each stock\n",
    "expected_returns = np.array([0.23, 0.22, 0.21, 0.13, 0.17])\n",
    "\n",
    "# Perform mean-variance optimization\n",
    "denoised_portfolio_weights = mean_variance_optimization(denoised_corr1, expected_returns)\n",
    "plot_weights(denoised_portfolio_weights, 'DeNoised Portfolio Weights')\n",
    "if denoised_portfolio_weights is not None:\n",
    "    print(\"Denoised portfolio weights:\")\n",
    "    for i in range(len(denoised_portfolio_weights)):\n",
    "        print(f\"{tickers[i]}: {denoised_portfolio_weights[i]:.4f}\")"
   ]
  },
  {
   "cell_type": "code",
   "execution_count": 337,
   "id": "417e6868",
   "metadata": {},
   "outputs": [
    {
     "data": {
      "image/png": "[encoded data removed]",
      "text/plain": [
       "<Figure size 700x300 with 1 Axes>"
      ]
     },
     "metadata": {},
     "output_type": "display_data"
    },
    {
     "name": "stdout",
     "output_type": "stream",
     "text": [
      "Detoned portfolio weights:\n",
      "ASIANPAINT.NS: 0.2073\n",
      "BAJAJFINSV.NS: 0.2057\n",
      "DRREDDY.NS: 0.1727\n",
      "HDFCBANK.NS: 0.2068\n",
      "TCS.NS: 0.2075\n"
     ]
    }
   ],
   "source": [
    "# Perform mean-variance optimization\n",
    "detoned_portfolio_weights = mean_variance_optimization(detoned_corr, expected_returns)\n",
    "plot_weights(detoned_portfolio_weights, 'Detoned Portfolio Weights')\n",
    "if detoned_portfolio_weights is not None:\n",
    "    print(\"Detoned portfolio weights:\")\n",
    "    for i in range(len(detoned_portfolio_weights)):\n",
    "        print(f\"{tickers[i]}: {detoned_portfolio_weights[i]:.4f}\")"
   ]
  },
  {
   "cell_type": "code",
   "execution_count": 339,
   "id": "e22e3664",
   "metadata": {},
   "outputs": [
    {
     "data": {
      "image/png": "[encoded data removed]",
      "text/plain": [
       "<Figure size 1500x500 with 6 Axes>"
      ]
     },
     "metadata": {},
     "output_type": "display_data"
    }
   ],
   "source": [
    "# Create subplots with 1 row and 3 columns\n",
    "fig, axs = plt.subplots(1, 3, figsize=(15, 5))\n",
    "\n",
    "# Plot the first correlation matrix - actual_corr1\n",
    "sns.heatmap(actual_corr, annot=True, cmap='coolwarm', fmt=\".2f\", ax=axs[0])\n",
    "axs[0].set_title('Actual Correlation Matrix')\n",
    "\n",
    "# Plot the second correlation matrix - denoised_corr1_df\n",
    "denoised_corr_df = pd.DataFrame(denoised_corr, index=tickers, columns=tickers)\n",
    "sns.heatmap(denoised_corr_df, annot=True, cmap='coolwarm', fmt=\".2f\", ax=axs[1])\n",
    "axs[1].set_title('Denoised Correlation Matrix')\n",
    "\n",
    "# Plot the third correlation matrix - detoned_corr_df\n",
    "detoned_corr_df = pd.DataFrame(detoned_corr, index=tickers, columns=tickers)\n",
    "sns.heatmap(detoned_corr_df, annot=True, cmap='coolwarm', fmt=\".2f\", ax=axs[2])\n",
    "axs[2].set_title('Denoised & Detoned Correlation Matrix')\n",
    "\n",
    "# Adjust layout to avoid overlapping titles\n",
    "plt.tight_layout()\n",
    "\n",
    "# Display the plots\n",
    "plt.show()"
   ]
  },
  {
   "cell_type": "markdown",
   "id": "1e9f1b84",
   "metadata": {},
   "source": [
    "#### Step 2 - Clustering of Portfolio:"
   ]
  },
  {
   "cell_type": "code",
   "execution_count": 340,
   "id": "03ec189b",
   "metadata": {},
   "outputs": [
    {
     "name": "stdout",
     "output_type": "stream",
     "text": [
      "maxNumClusters2\n"
     ]
    }
   ],
   "source": [
    "q = 10.0\n",
    "corr0 = act_returns.corr()\n",
    "cov0 = act_returns.cov()\n",
    "cols = cov0.columns\n",
    "cov1 = deNoiseCov(cov0, q, bWidth=.01) #denoise cov\n",
    "cov1 = pd.DataFrame(cov1, index=cols, columns=cols)\n",
    "corr1 = cov2corr(cov1)\n",
    "clustered_corr, clstrs, silh = clusterKMeansBase(pd.DataFrame(corr0))\n",
    "\n",
    "# code snippet 7.4 - intracluster optimal allocations\n",
    "# step 2. compute intracluster allocations using the denoised cov matrix\n",
    "wIntra = pd.DataFrame(0, index=cov0.index, columns=clstrs.keys())\n",
    "for i in clstrs:\n",
    "    wIntra.loc[clstrs[i], i] = minVarPort(cov1.loc[clstrs[i], clstrs[i]]).flatten()\n",
    "\n",
    "cov2 = wIntra.T.dot(np.dot(cov1, wIntra)) #reduced covariance matrix\n",
    "\n",
    "# code snippet 7.5 - intercluster optimal allocations\n",
    "# step 3. compute optimal intercluster allocations, usint the reduced covariance matrix\n",
    "# which is close to a diagonal matrix, so optimization problem is close to ideal case \\ro =0\n",
    "wInter = pd.Series(minVarPort(cov2).flatten(), index=cov2.index)\n",
    "wAll0 = wIntra.mul(wInter, axis=1).sum(axis=1).sort_index()\n",
    "\n",
    "# step 4. Final allocations - dot-product of the intra-cluster and inter-cluster allocations \n",
    "#w_nco = w_intra_clusters.mul(w_inter_clusters, axis=1).sum(axis=1).values.reshape(-1, 1)\n",
    "nested_cluster_weights = wIntra.mul(wInter, axis=1).sum(axis=1).values.reshape(-1,1)"
   ]
  },
  {
   "cell_type": "code",
   "execution_count": 341,
   "id": "f7527d88",
   "metadata": {},
   "outputs": [
    {
     "name": "stdout",
     "output_type": "stream",
     "text": [
      "Clusters Formed:  {0: ['DRREDDY.NS'], 1: ['ASIANPAINT.NS', 'BAJAJFINSV.NS', 'HDFCBANK.NS', 'TCS.NS']}\n"
     ]
    }
   ],
   "source": [
    "print(\"Clusters Formed: \", clstrs)"
   ]
  },
  {
   "cell_type": "code",
   "execution_count": 342,
   "id": "8f6b4b4a",
   "metadata": {},
   "outputs": [
    {
     "name": "stdout",
     "output_type": "stream",
     "text": [
      "Silhouette:\n",
      "\n",
      "ASIANPAINT.NS    0.056186\n",
      "BAJAJFINSV.NS    0.186184\n",
      "DRREDDY.NS       0.000000\n",
      "HDFCBANK.NS      0.177169\n",
      "TCS.NS           0.053897\n",
      "dtype: float64\n"
     ]
    }
   ],
   "source": [
    "print(\"Silhouette:\\n\")\n",
    "print(silh)"
   ]
  },
  {
   "cell_type": "code",
   "execution_count": 343,
   "id": "224e51e6",
   "metadata": {},
   "outputs": [
    {
     "data": {
      "text/plain": [
       "{0: ['DRREDDY.NS'],\n",
       " 1: ['ASIANPAINT.NS', 'BAJAJFINSV.NS', 'HDFCBANK.NS', 'TCS.NS']}"
      ]
     },
     "execution_count": 343,
     "metadata": {},
     "output_type": "execute_result"
    }
   ],
   "source": [
    "clstrs"
   ]
  },
  {
   "cell_type": "code",
   "execution_count": 344,
   "id": "b6a5251a",
   "metadata": {},
   "outputs": [
    {
     "name": "stdout",
     "output_type": "stream",
     "text": [
      "Inter Cluster Allocation: \n",
      "0    0.298356\n",
      "1    0.701644\n",
      "dtype: float64\n"
     ]
    }
   ],
   "source": [
    "print(\"Inter Cluster Allocation: \")\n",
    "print(wInter)"
   ]
  },
  {
   "cell_type": "markdown",
   "id": "f5b3c8c5",
   "metadata": {},
   "source": [
    "**Two clusters are formed as a result of the clustering with inter cluster asllocation of 70% and 30%.\n",
    "Given the silhouette numbers, we see that HDFCBANK and BAJAJFINSV (both financial sector) stocks are relatively better clustered  compared to ASIANPAINTS and TCS. DRREDDY is a separate cluster by itself.**"
   ]
  },
  {
   "cell_type": "code",
   "execution_count": 345,
   "id": "1981f0cf",
   "metadata": {},
   "outputs": [
    {
     "data": {
      "image/png": "[encoded data removed]",
      "text/plain": [
       "<Figure size 700x300 with 1 Axes>"
      ]
     },
     "metadata": {},
     "output_type": "display_data"
    },
    {
     "name": "stdout",
     "output_type": "stream",
     "text": [
      "[0.21382444 0.02263147 0.29835589 0.1736967  0.2914915 ]\n"
     ]
    }
   ],
   "source": [
    "nested_cluster_wts = nested_cluster_weights.flatten()\n",
    "plot_weights(nested_cluster_wts, 'Nested Cluster Portfolio Weights')\n",
    "print(nested_cluster_wts)"
   ]
  },
  {
   "cell_type": "markdown",
   "id": "81ff2051",
   "metadata": {},
   "source": [
    "#### Step 2 - Backtesting:"
   ]
  },
  {
   "cell_type": "markdown",
   "id": "f47dc6e0",
   "metadata": {},
   "source": [
    "#### Benchmarked (NIFTY50) Sharpe Ratio:"
   ]
  },
  {
   "cell_type": "code",
   "execution_count": 346,
   "id": "450201ad",
   "metadata": {},
   "outputs": [
    {
     "name": "stdout",
     "output_type": "stream",
     "text": [
      "[*********************100%***********************]  1 of 1 completed\n",
      "Nifty Sharpe Ratio: 0.0361\n"
     ]
    }
   ],
   "source": [
    "nifty = yf.download('^NSEI', start=start_date, end=end_date, period='1d', auto_adjust=True)['Close']\n",
    "nifty.index = pd.to_datetime(nifty.index)\n",
    "\n",
    "# Calculate the daily returns of Nifty\n",
    "daily_returns = nifty.pct_change()\n",
    "\n",
    "# Calculate the average daily return and the standard deviation of daily returns\n",
    "average_daily_return = daily_returns.mean()\n",
    "daily_return_std = daily_returns.std()\n",
    "\n",
    "# Assuming a risk-free rate (e.g., 0.03, which is 3% per annum)\n",
    "risk_free_rate = 0.03 / 252  # Assuming daily compounding\n",
    "\n",
    "# Calculate the risk premium as the difference between the average daily return and the risk-free rate\n",
    "risk_premium = average_daily_return - risk_free_rate\n",
    "\n",
    "# Calculate the Sharpe Ratio\n",
    "benchmark_sharpe_ratio = (risk_premium / daily_return_std).round(4)\n",
    "\n",
    "print(\"Nifty Sharpe Ratio:\", sharpe_ratio)"
   ]
  },
  {
   "cell_type": "code",
   "execution_count": 347,
   "id": "c0b8707e",
   "metadata": {},
   "outputs": [
    {
     "name": "stderr",
     "output_type": "stream",
     "text": [
      "100%|██████████| 1000/1000 [00:01<00:00, 765.40it/s]\n"
     ]
    },
    {
     "name": "stdout",
     "output_type": "stream",
     "text": [
      "Deflated Sharpe Ratio:  0.9647529787184895\n"
     ]
    }
   ],
   "source": [
    "from tqdm import tqdm\n",
    "import scipy.stats as scipy_stats\n",
    "\n",
    "M = 1000\n",
    "df_pfs_returns = pd.DataFrame()\n",
    "\n",
    "weights = []\n",
    "l = [0.15, 0.22, 0.34, 0.18, 0.11]  # do not use 0, for avoiding zero division\n",
    "for i in tqdm(range(M)):\n",
    "    _weights = generate_random_weights(act_returns, l)\n",
    "    _pf_returns = simulate(act_returns, _weights)\n",
    "    df_pfs_returns[i] = _pf_returns\n",
    "    weights.append(pd.Series(_weights.iloc[-1], name=i+1))\n",
    "    \n",
    "# Convert the list of Series to a DataFrame\n",
    "weights_df = pd.DataFrame(weights)\n",
    "ann_best_srs = ann_estimated_sharpe_ratio(df_pfs_returns).sort_values(ascending=False)\n",
    "psr = probabilistic_sharpe_ratio(returns=df_pfs_returns, sr_benchmark=benchmark_sharpe_ratio).sort_values(ascending=False)\n",
    "\n",
    "# Find the portfolio numbers with the best Sharpe Ratios\n",
    "best_portfolio_numbers = psr.index[:5]  # Considering the top 5 best Sharpe Ratios\n",
    "\n",
    "# Filter the weights DataFrame to include only the best portfolios\n",
    "best_portfolio_weights_df = weights_df.loc[best_portfolio_numbers]\n",
    "\n",
    "# Display the DataFrame with weights for the best portfolios\n",
    "best_psr_pf_name = probabilistic_sharpe_ratio(returns=df_pfs_returns, sr_benchmark=0.0361).sort_values(ascending=False).index[0]\n",
    "best_psr_pf_returns = df_pfs_returns[best_psr_pf_name]\n",
    "best_portfolio_weights = weights_df.loc[best_psr_pf_name]\n",
    "dsr = deflated_sharpe_ratio(trials_returns=df_pfs_returns, returns_selected=best_psr_pf_returns)\n",
    "print(\"Deflated Sharpe Ratio: \", dsr)"
   ]
  },
  {
   "cell_type": "code",
   "execution_count": 348,
   "id": "39d0e449",
   "metadata": {},
   "outputs": [
    {
     "data": {
      "image/png": "[encoded data removed]",
      "text/plain": [
       "<Figure size 700x300 with 1 Axes>"
      ]
     },
     "metadata": {},
     "output_type": "display_data"
    },
    {
     "name": "stdout",
     "output_type": "stream",
     "text": [
      "ASIANPAINT.NS    0.151261\n",
      "BAJAJFINSV.NS    0.184874\n",
      "DRREDDY.NS       0.092437\n",
      "HDFCBANK.NS      0.285714\n",
      "TCS.NS           0.285714\n",
      "Name: 853, dtype: float64\n"
     ]
    }
   ],
   "source": [
    "plot_weights(best_portfolio_weights, 'Backtested Portfolio Weights')\n",
    "print(best_portfolio_weights)"
   ]
  },
  {
   "cell_type": "markdown",
   "id": "730c2e5c",
   "metadata": {},
   "source": [
    "### Data for Testing Period - GWP2 to GWP3"
   ]
  },
  {
   "cell_type": "code",
   "execution_count": 349,
   "id": "0a5f2181",
   "metadata": {},
   "outputs": [
    {
     "name": "stdout",
     "output_type": "stream",
     "text": [
      "[*********************100%***********************]  5 of 5 completed\n"
     ]
    }
   ],
   "source": [
    "# Define the list of stock tickers\n",
    "#tickers = ['ADANIENT.NS', 'TCS.NS', 'HDFCBANK.NS', 'DRREDDY.NS', 'ASIANPAINT.NS']\n",
    "tickers = ['ASIANPAINT.NS', 'BAJAJFINSV.NS', 'DRREDDY.NS', 'HDFCBANK.NS', 'TCS.NS']\n",
    "\n",
    "# Define the start and end dates. This will download 120 days of data for each stock\n",
    "gwp2_end_date = '2023-07-06'\n",
    "gwp3_end_date = '2023-07-26'\n",
    "\n",
    "# Download historical price data\n",
    "test_data = yf.download(tickers, start=gwp2_end_date, end=gwp3_end_date, period='1d', auto_adjust=True)['Close']"
   ]
  },
  {
   "cell_type": "code",
   "execution_count": 378,
   "id": "e32011cc",
   "metadata": {},
   "outputs": [
    {
     "data": {
      "text/html": [
       "<div>\n",
       "<style scoped>\n",
       "    .dataframe tbody tr th:only-of-type {\n",
       "        vertical-align: middle;\n",
       "    }\n",
       "\n",
       "    .dataframe tbody tr th {\n",
       "        vertical-align: top;\n",
       "    }\n",
       "\n",
       "    .dataframe thead th {\n",
       "        text-align: right;\n",
       "    }\n",
       "</style>\n",
       "<table border=\"1\" class=\"dataframe\">\n",
       "  <thead>\n",
       "    <tr style=\"text-align: right;\">\n",
       "      <th></th>\n",
       "      <th>ASIANPAINT.NS</th>\n",
       "      <th>BAJAJFINSV.NS</th>\n",
       "      <th>DRREDDY.NS</th>\n",
       "      <th>HDFCBANK.NS</th>\n",
       "      <th>TCS.NS</th>\n",
       "    </tr>\n",
       "    <tr>\n",
       "      <th>Date</th>\n",
       "      <th></th>\n",
       "      <th></th>\n",
       "      <th></th>\n",
       "      <th></th>\n",
       "      <th></th>\n",
       "    </tr>\n",
       "  </thead>\n",
       "  <tbody>\n",
       "    <tr>\n",
       "      <th>2023-07-06</th>\n",
       "      <td>3399.399902</td>\n",
       "      <td>1619.900024</td>\n",
       "      <td>5191.203613</td>\n",
       "      <td>1675.000000</td>\n",
       "      <td>3314.281494</td>\n",
       "    </tr>\n",
       "    <tr>\n",
       "      <th>2023-07-07</th>\n",
       "      <td>3343.699951</td>\n",
       "      <td>1614.900024</td>\n",
       "      <td>5142.286133</td>\n",
       "      <td>1660.400024</td>\n",
       "      <td>3320.615234</td>\n",
       "    </tr>\n",
       "    <tr>\n",
       "      <th>2023-07-10</th>\n",
       "      <td>3343.149902</td>\n",
       "      <td>1597.800049</td>\n",
       "      <td>5114.950195</td>\n",
       "      <td>1656.449951</td>\n",
       "      <td>3263.463623</td>\n",
       "    </tr>\n",
       "  </tbody>\n",
       "</table>\n",
       "</div>"
      ],
      "text/plain": [
       "            ASIANPAINT.NS  BAJAJFINSV.NS   DRREDDY.NS  HDFCBANK.NS  \\\n",
       "Date                                                                 \n",
       "2023-07-06    3399.399902    1619.900024  5191.203613  1675.000000   \n",
       "2023-07-07    3343.699951    1614.900024  5142.286133  1660.400024   \n",
       "2023-07-10    3343.149902    1597.800049  5114.950195  1656.449951   \n",
       "\n",
       "                 TCS.NS  \n",
       "Date                     \n",
       "2023-07-06  3314.281494  \n",
       "2023-07-07  3320.615234  \n",
       "2023-07-10  3263.463623  "
      ]
     },
     "execution_count": 378,
     "metadata": {},
     "output_type": "execute_result"
    }
   ],
   "source": [
    "test_data.head(3)"
   ]
  },
  {
   "cell_type": "code",
   "execution_count": 379,
   "id": "b644ec36",
   "metadata": {},
   "outputs": [
    {
     "data": {
      "text/html": [
       "<div>\n",
       "<style scoped>\n",
       "    .dataframe tbody tr th:only-of-type {\n",
       "        vertical-align: middle;\n",
       "    }\n",
       "\n",
       "    .dataframe tbody tr th {\n",
       "        vertical-align: top;\n",
       "    }\n",
       "\n",
       "    .dataframe thead th {\n",
       "        text-align: right;\n",
       "    }\n",
       "</style>\n",
       "<table border=\"1\" class=\"dataframe\">\n",
       "  <thead>\n",
       "    <tr style=\"text-align: right;\">\n",
       "      <th></th>\n",
       "      <th>ASIANPAINT.NS</th>\n",
       "      <th>BAJAJFINSV.NS</th>\n",
       "      <th>DRREDDY.NS</th>\n",
       "      <th>HDFCBANK.NS</th>\n",
       "      <th>TCS.NS</th>\n",
       "    </tr>\n",
       "    <tr>\n",
       "      <th>Date</th>\n",
       "      <th></th>\n",
       "      <th></th>\n",
       "      <th></th>\n",
       "      <th></th>\n",
       "      <th></th>\n",
       "    </tr>\n",
       "  </thead>\n",
       "  <tbody>\n",
       "    <tr>\n",
       "      <th>2023-07-21</th>\n",
       "      <td>3517.699951</td>\n",
       "      <td>1632.849976</td>\n",
       "      <td>5288.200195</td>\n",
       "      <td>1675.750000</td>\n",
       "      <td>3368.300049</td>\n",
       "    </tr>\n",
       "    <tr>\n",
       "      <th>2023-07-24</th>\n",
       "      <td>3543.699951</td>\n",
       "      <td>1657.500000</td>\n",
       "      <td>5391.700195</td>\n",
       "      <td>1678.400024</td>\n",
       "      <td>3394.750000</td>\n",
       "    </tr>\n",
       "    <tr>\n",
       "      <th>2023-07-25</th>\n",
       "      <td>3400.399902</td>\n",
       "      <td>1648.849976</td>\n",
       "      <td>5425.399902</td>\n",
       "      <td>1696.599976</td>\n",
       "      <td>3399.149902</td>\n",
       "    </tr>\n",
       "  </tbody>\n",
       "</table>\n",
       "</div>"
      ],
      "text/plain": [
       "            ASIANPAINT.NS  BAJAJFINSV.NS   DRREDDY.NS  HDFCBANK.NS  \\\n",
       "Date                                                                 \n",
       "2023-07-21    3517.699951    1632.849976  5288.200195  1675.750000   \n",
       "2023-07-24    3543.699951    1657.500000  5391.700195  1678.400024   \n",
       "2023-07-25    3400.399902    1648.849976  5425.399902  1696.599976   \n",
       "\n",
       "                 TCS.NS  \n",
       "Date                     \n",
       "2023-07-21  3368.300049  \n",
       "2023-07-24  3394.750000  \n",
       "2023-07-25  3399.149902  "
      ]
     },
     "execution_count": 379,
     "metadata": {},
     "output_type": "execute_result"
    }
   ],
   "source": [
    "test_data.tail(3)"
   ]
  },
  {
   "cell_type": "code",
   "execution_count": 350,
   "id": "17beff26",
   "metadata": {},
   "outputs": [],
   "source": [
    "# Calculate daily returns for each stock\n",
    "returns = test_data.pct_change().dropna()"
   ]
  },
  {
   "cell_type": "code",
   "execution_count": 351,
   "id": "2799cc56",
   "metadata": {},
   "outputs": [],
   "source": [
    "# Create an empty DataFrame with specified columns\n",
    "model_test_df = pd.DataFrame(columns=['Model', 'AsianPaint Wt.', 'BajajFinSv Wt.', 'DrReddy Wt.', 'HDFCBank Wt.', 'TCS Wt.',\n",
    "                                      'Port. Returns%', 'Sharpe Ratio', 'Std Dev', 'Max Drawdown', 'Sortino Ratio'])"
   ]
  },
  {
   "cell_type": "code",
   "execution_count": 352,
   "id": "5c1d22c7",
   "metadata": {},
   "outputs": [],
   "source": [
    "def calc_model_returns(returns, weights):\n",
    "    # Calculate the portfolio return for each day\n",
    "    portfolio_returns = returns.dot(weights)\n",
    "\n",
    "    # Calculate the overall portfolio return\n",
    "    overall_portfolio_return = (1 + portfolio_returns).cumprod()[-1] - 1\n",
    "\n",
    "    # Convert portfolio_return to percentage\n",
    "    overall_portfolio_return_pct = overall_portfolio_return * 100\n",
    "\n",
    "    # Calculate the portfolio standard deviation (volatility)\n",
    "    portfolio_std_dev = np.std(portfolio_returns)\n",
    "\n",
    "    # Calculate the Sharpe Ratio\n",
    "    risk_free_rate = 0.0  # Replace with the appropriate risk-free rate if available\n",
    "    excess_returns = portfolio_returns - risk_free_rate\n",
    "    sharpe_ratio = np.mean(excess_returns) / portfolio_std_dev\n",
    "\n",
    "    # Calculate the maximum drawdown\n",
    "    cumulative_returns = (1 + portfolio_returns).cumprod()\n",
    "    max_drawdown = cumulative_returns.div(cumulative_returns.cummax()).sub(1).min()\n",
    "\n",
    "    # Calculate the Sortino Ratio\n",
    "    downside_returns = portfolio_returns[portfolio_returns < 0]\n",
    "    sortino_ratio = np.mean(excess_returns) / np.std(downside_returns)\n",
    "\n",
    "    return overall_portfolio_return_pct, portfolio_std_dev, sharpe_ratio, max_drawdown, sortino_ratio\n"
   ]
  },
  {
   "cell_type": "code",
   "execution_count": 353,
   "id": "5e2e2908",
   "metadata": {},
   "outputs": [],
   "source": [
    "def store_results(model_name, weights, results):\n",
    "    global model_test_df\n",
    "\n",
    "    # Create a dictionary to store all the data\n",
    "    data = {}\n",
    "\n",
    "    # Store the model name\n",
    "    data['Model'] = model_name\n",
    "\n",
    "    # Store the weights\n",
    "    data['AsianPaint Wt.'] = round(weights[0], 4)\n",
    "    data['BajajFinSv Wt.'] = round(weights[1], 4)\n",
    "    data['DrReddy Wt.'] = round(weights[2], 4)\n",
    "    data['HDFCBank Wt.'] = round(weights[3], 4)\n",
    "    data['TCS Wt.'] = round(weights[4], 4)\n",
    "\n",
    "    # Store the model results\n",
    "    data['Port. Returns%'] = round(results[0], 4)\n",
    "    data['Sharpe Ratio'] = round(results[1], 4)\n",
    "    data['Std Dev'] = round(results[2], 4)\n",
    "    data['Max Drawdown'] = round(results[3], 4)\n",
    "    data['Sortino Ratio'] = round(results[4], 4)\n",
    "\n",
    "    # Append data to the DataFrame\n",
    "    model_test_df = model_test_df.append(data, ignore_index=True)"
   ]
  },
  {
   "cell_type": "code",
   "execution_count": 354,
   "id": "1b884921",
   "metadata": {},
   "outputs": [],
   "source": [
    "# GWP2 Best Portfolio\n",
    "gwp2_best_portfolio_weights = [0.23, 0.06, 0.48, 0.05, 0.18]\n",
    "results = calc_model_returns(returns, gwp2_best_portfolio_weights)\n",
    "# Store the results in the DataFrame\n",
    "store_results('GWP2[Optimal+BL+Kelly]', gwp2_best_portfolio_weights, results)"
   ]
  },
  {
   "cell_type": "code",
   "execution_count": 355,
   "id": "1f660eed",
   "metadata": {},
   "outputs": [],
   "source": [
    "# Denoised Portfolio\n",
    "results = calc_model_returns(returns, denoised_portfolio_weights)\n",
    "# Store the results in the DataFrame\n",
    "store_results('Denoised', denoised_portfolio_weights, results)"
   ]
  },
  {
   "cell_type": "code",
   "execution_count": 356,
   "id": "b8436087",
   "metadata": {},
   "outputs": [],
   "source": [
    "# Detoned Portfolio\n",
    "results = calc_model_returns(returns, detoned_portfolio_weights)\n",
    "# Store the results in the DataFrame\n",
    "store_results('Detoned', detoned_portfolio_weights, results)"
   ]
  },
  {
   "cell_type": "code",
   "execution_count": 357,
   "id": "01b2c5e1",
   "metadata": {},
   "outputs": [],
   "source": [
    "# Clustered Portfolio\n",
    "results = calc_model_returns(returns, nested_cluster_wts)\n",
    "# Store the results in the DataFrame\n",
    "store_results('Clustered', nested_cluster_wts, results)"
   ]
  },
  {
   "cell_type": "code",
   "execution_count": 358,
   "id": "f0264db6",
   "metadata": {},
   "outputs": [],
   "source": [
    "# Backtested Portfolio\n",
    "results = calc_model_returns(returns, best_portfolio_weights)\n",
    "# Store the results in the DataFrame\n",
    "store_results('Backtested', best_portfolio_weights, results)"
   ]
  },
  {
   "cell_type": "markdown",
   "id": "02c22d5f",
   "metadata": {},
   "source": [
    "### Multiple Improvements:"
   ]
  },
  {
   "cell_type": "markdown",
   "id": "9116b7f6",
   "metadata": {},
   "source": [
    "#### 1. Denoised & Clustered:"
   ]
  },
  {
   "cell_type": "code",
   "execution_count": 359,
   "id": "677fb2e9",
   "metadata": {},
   "outputs": [
    {
     "name": "stdout",
     "output_type": "stream",
     "text": [
      "maxNumClusters2\n"
     ]
    }
   ],
   "source": [
    "q = 10.0\n",
    "\n",
    "# Input the denoised corr\n",
    "corr0 = denoised_corr_df\n",
    "#=========================\n",
    "#cov0 = act_returns.cov()\n",
    "cov0 = corr2cov(denoised_corr_df, act_returns.std())\n",
    "\n",
    "cols = cov0.columns\n",
    "cov1 = deNoiseCov(cov0, q, bWidth=.01) #denoise cov\n",
    "cov1 = pd.DataFrame(cov1, index=cols, columns=cols)\n",
    "corr1 = cov2corr(cov1)\n",
    "denoised_clustered_corr, denoised_clstrs, denoised_silh = clusterKMeansBase(pd.DataFrame(corr0))\n",
    "\n",
    "# code snippet 7.4 - intracluster optimal allocations\n",
    "# step 2. compute intracluster allocations using the denoised cov matrix\n",
    "wIntra = pd.DataFrame(0, index=cov0.index, columns=denoised_clstrs.keys())\n",
    "for i in denoised_clstrs:\n",
    "    wIntra.loc[denoised_clstrs[i], i] = minVarPort(cov1.loc[denoised_clstrs[i], denoised_clstrs[i]]).flatten()\n",
    "\n",
    "cov2 = wIntra.T.dot(np.dot(cov1, wIntra)) #reduced covariance matrix\n",
    "\n",
    "# code snippet 7.5 - intercluster optimal allocations\n",
    "# step 3. compute optimal intercluster allocations, usint the reduced covariance matrix\n",
    "# which is close to a diagonal matrix, so optimization problem is close to ideal case \\ro =0\n",
    "denoised_wInter = pd.Series(minVarPort(cov2).flatten(), index=cov2.index)\n",
    "wAll0 = wIntra.mul(denoised_wInter, axis=1).sum(axis=1).sort_index()\n",
    "\n",
    "# step 4. Final allocations - dot-product of the intra-cluster and inter-cluster allocations \n",
    "#w_nco = w_intra_clusters.mul(w_inter_clusters, axis=1).sum(axis=1).values.reshape(-1, 1)\n",
    "denoised_cluster_weights = wIntra.mul(denoised_wInter, axis=1).sum(axis=1).values.reshape(-1,1)"
   ]
  },
  {
   "cell_type": "code",
   "execution_count": 360,
   "id": "6f233e57",
   "metadata": {},
   "outputs": [
    {
     "data": {
      "image/png": "[encoded data removed]",
      "text/plain": [
       "<Figure size 700x300 with 1 Axes>"
      ]
     },
     "metadata": {},
     "output_type": "display_data"
    },
    {
     "name": "stdout",
     "output_type": "stream",
     "text": [
      "[0.21382444 0.02263147 0.29835589 0.1736967  0.2914915 ]\n"
     ]
    }
   ],
   "source": [
    "denoised_cluster_wts = denoised_cluster_weights.flatten()\n",
    "plot_weights(denoised_cluster_wts, 'Denoised Cluster Portfolio Weights')\n",
    "print(denoised_cluster_wts)"
   ]
  },
  {
   "cell_type": "code",
   "execution_count": 361,
   "id": "dcdda912",
   "metadata": {},
   "outputs": [],
   "source": [
    "# Denoised & Clustered\n",
    "results = calc_model_returns(returns, denoised_cluster_wts )\n",
    "# Store the results in the DataFrame\n",
    "store_results('Denoised & Clustered', denoised_cluster_wts , results)"
   ]
  },
  {
   "cell_type": "markdown",
   "id": "a4c3df00",
   "metadata": {},
   "source": [
    "#### 2. Denoised & Backtested:"
   ]
  },
  {
   "cell_type": "code",
   "execution_count": 363,
   "id": "b9896904",
   "metadata": {},
   "outputs": [
    {
     "name": "stderr",
     "output_type": "stream",
     "text": [
      "100%|██████████| 1000/1000 [00:01<00:00, 742.68it/s]\n"
     ]
    },
    {
     "name": "stdout",
     "output_type": "stream",
     "text": [
      "Deflated Sharpe Ratio:  0.9656442175224179\n"
     ]
    }
   ],
   "source": [
    "from tqdm import tqdm\n",
    "import scipy.stats as scipy_stats\n",
    "\n",
    "M = 1000\n",
    "df_pfs_returns = pd.DataFrame()\n",
    "\n",
    "denoised_backtest_weights = []\n",
    "for i in tqdm(range(M)):\n",
    "    _weights = generate_random_weights(act_returns, denoised_portfolio_weights)\n",
    "    _pf_returns = simulate(act_returns, _weights)\n",
    "    df_pfs_returns[i] = _pf_returns\n",
    "    denoised_backtest_weights.append(pd.Series(_weights.iloc[-1], name=i+1))\n",
    "\n",
    "# Convert the list of Series to a DataFrame\n",
    "denoised_backtest_weights_df = pd.DataFrame(denoised_backtest_weights)\n",
    "ann_best_srs = ann_estimated_sharpe_ratio(df_pfs_returns).sort_values(ascending=False)\n",
    "psr = probabilistic_sharpe_ratio(returns=df_pfs_returns, sr_benchmark=benchmark_sharpe_ratio).sort_values(ascending=False)\n",
    "\n",
    "# Find the portfolio numbers with the best Sharpe Ratios\n",
    "denoised_backtest_portfolio_numbers = psr.index[:5]  # Considering the top 5 best Sharpe Ratios\n",
    "\n",
    "# Filter the weights DataFrame to include only the best portfolios\n",
    "denoised_backtest_portfolio_weights_df = denoised_backtest_weights_df.loc[denoised_backtest_portfolio_numbers]\n",
    "\n",
    "# Display the DataFrame with weights for the best portfolios\n",
    "denoised_backtest_psr_pf_name = probabilistic_sharpe_ratio(returns=df_pfs_returns, sr_benchmark=0.0361).sort_values(ascending=False).index[0]\n",
    "denoised_backtest_psr_pf_returns = df_pfs_returns[denoised_backtest_psr_pf_name]\n",
    "denoised_backtest_portfolio_weights = denoised_backtest_weights_df.loc[denoised_backtest_psr_pf_name]\n",
    "denoised_backtestdsr = deflated_sharpe_ratio(trials_returns=df_pfs_returns, returns_selected=denoised_backtest_psr_pf_returns)\n",
    "print(\"Deflated Sharpe Ratio: \", denoised_backtestdsr)"
   ]
  },
  {
   "cell_type": "code",
   "execution_count": 364,
   "id": "2522d81c",
   "metadata": {},
   "outputs": [
    {
     "data": {
      "image/png": "[encoded data removed]",
      "text/plain": [
       "<Figure size 700x300 with 1 Axes>"
      ]
     },
     "metadata": {},
     "output_type": "display_data"
    },
    {
     "name": "stdout",
     "output_type": "stream",
     "text": [
      "ASIANPAINT.NS    0.291292\n",
      "BAJAJFINSV.NS    0.170500\n",
      "DRREDDY.NS       0.175853\n",
      "HDFCBANK.NS      0.181177\n",
      "TCS.NS           0.181177\n",
      "Name: 651, dtype: float64\n"
     ]
    }
   ],
   "source": [
    "plot_weights(denoised_backtest_portfolio_weights, 'Denoised & Backtested Portfolio Weights')\n",
    "print(denoised_backtest_portfolio_weights)"
   ]
  },
  {
   "cell_type": "code",
   "execution_count": 365,
   "id": "b578fbdd",
   "metadata": {},
   "outputs": [],
   "source": [
    "# Denoised & Backtested Portfolio Weights\n",
    "results = calc_model_returns(returns, denoised_backtest_portfolio_weights)\n",
    "# Store the results in the DataFrame\n",
    "store_results('Denoised & Backtested', denoised_backtest_portfolio_weights, results)"
   ]
  },
  {
   "cell_type": "markdown",
   "id": "59acb59c",
   "metadata": {},
   "source": [
    "#### 3. Clustered & Backtested:"
   ]
  },
  {
   "cell_type": "code",
   "execution_count": 366,
   "id": "ca84a915",
   "metadata": {},
   "outputs": [
    {
     "name": "stderr",
     "output_type": "stream",
     "text": [
      "100%|██████████| 1000/1000 [00:01<00:00, 768.64it/s]\n"
     ]
    },
    {
     "name": "stdout",
     "output_type": "stream",
     "text": [
      "Deflated Sharpe Ratio:  0.9645020380540943\n"
     ]
    }
   ],
   "source": [
    "from tqdm import tqdm\n",
    "import scipy.stats as scipy_stats\n",
    "\n",
    "M = 1000\n",
    "df_pfs_returns = pd.DataFrame()\n",
    "\n",
    "clustered_backtest_weights = []\n",
    "nested_cluster_wts = nested_cluster_weights.flatten()\n",
    "\n",
    "for i in tqdm(range(M)):\n",
    "    _weights = generate_random_weights(act_returns, nested_cluster_wts)\n",
    "    _pf_returns = simulate(act_returns, _weights)\n",
    "    df_pfs_returns[i] = _pf_returns\n",
    "    clustered_backtest_weights.append(pd.Series(_weights.iloc[-1], name=i+1))\n",
    "    \n",
    "# Convert the list of Series to a DataFrame\n",
    "clustered_backtest_weights_df = pd.DataFrame(clustered_backtest_weights)\n",
    "ann_best_srs = ann_estimated_sharpe_ratio(df_pfs_returns).sort_values(ascending=False)\n",
    "psr = probabilistic_sharpe_ratio(returns=df_pfs_returns, sr_benchmark=benchmark_sharpe_ratio).sort_values(ascending=False)\n",
    "\n",
    "# Find the portfolio numbers with the best Sharpe Ratios\n",
    "clustered_backtest_portfolio_numbers = psr.index[:5]  # Considering the top 5 best Sharpe Ratios\n",
    "\n",
    "# Filter the weights DataFrame to include only the best portfolios\n",
    "clustered_backtest_portfolio_weights_df = clustered_backtest_weights_df.loc[clustered_backtest_portfolio_numbers]\n",
    "\n",
    "# Display the DataFrame with weights for the best portfolios\n",
    "clustered_backtest_psr_pf_name = probabilistic_sharpe_ratio(returns=df_pfs_returns, sr_benchmark=0.0361).sort_values(ascending=False).index[0]\n",
    "clustered_backtest_psr_pf_returns = df_pfs_returns[clustered_backtest_psr_pf_name]\n",
    "clustered_backtest_portfolio_weights = clustered_backtest_weights_df.loc[clustered_backtest_psr_pf_name]\n",
    "clustered_backtestdsr = deflated_sharpe_ratio(trials_returns=df_pfs_returns, returns_selected=clustered_backtest_psr_pf_returns)\n",
    "print(\"Deflated Sharpe Ratio: \", clustered_backtestdsr)"
   ]
  },
  {
   "cell_type": "code",
   "execution_count": 367,
   "id": "8321dde3",
   "metadata": {},
   "outputs": [
    {
     "data": {
      "image/png": "[encoded data removed]",
      "text/plain": [
       "<Figure size 700x300 with 1 Axes>"
      ]
     },
     "metadata": {},
     "output_type": "display_data"
    },
    {
     "name": "stdout",
     "output_type": "stream",
     "text": [
      "ASIANPAINT.NS    0.249033\n",
      "BAJAJFINSV.NS    0.178476\n",
      "DRREDDY.NS       0.178476\n",
      "HDFCBANK.NS      0.144982\n",
      "TCS.NS           0.249033\n",
      "Name: 336, dtype: float64\n"
     ]
    }
   ],
   "source": [
    "plot_weights(clustered_backtest_portfolio_weights, 'Clustered & Backtested Portfolio Weights')\n",
    "print(clustered_backtest_portfolio_weights)"
   ]
  },
  {
   "cell_type": "code",
   "execution_count": 368,
   "id": "8194be6f",
   "metadata": {},
   "outputs": [],
   "source": [
    "# Clustered & Backtested\n",
    "results = calc_model_returns(returns, clustered_backtest_portfolio_weights)\n",
    "# Store the results in the DataFrame\n",
    "store_results('Clustered & Backtested', clustered_backtest_portfolio_weights, results)"
   ]
  },
  {
   "cell_type": "markdown",
   "id": "fa42e7b5",
   "metadata": {},
   "source": [
    "#### 4. Denoised, Clustered & Backtested:"
   ]
  },
  {
   "cell_type": "code",
   "execution_count": 369,
   "id": "8fd0bb70",
   "metadata": {},
   "outputs": [
    {
     "name": "stderr",
     "output_type": "stream",
     "text": [
      "100%|██████████| 1000/1000 [00:01<00:00, 667.36it/s]\n"
     ]
    },
    {
     "name": "stdout",
     "output_type": "stream",
     "text": [
      "Deflated Sharpe Ratio:  0.9730905533040477\n"
     ]
    }
   ],
   "source": [
    "from tqdm import tqdm\n",
    "import scipy.stats as scipy_stats\n",
    "\n",
    "M = 1000\n",
    "df_pfs_returns = pd.DataFrame()\n",
    "\n",
    "denoised_clustered_backtest_weights = []\n",
    "denoised_cluster_wts = denoised_cluster_weights.flatten()\n",
    "\n",
    "for i in tqdm(range(M)):\n",
    "    _weights = generate_random_weights(act_returns, denoised_cluster_wts)\n",
    "    _pf_returns = simulate(act_returns, _weights)\n",
    "    df_pfs_returns[i] = _pf_returns\n",
    "    denoised_clustered_backtest_weights.append(pd.Series(_weights.iloc[-1], name=i+1))\n",
    "    \n",
    "# Convert the list of Series to a DataFrame\n",
    "denoised_clustered_backtest_weights_df = pd.DataFrame(denoised_clustered_backtest_weights)\n",
    "ann_best_srs = ann_estimated_sharpe_ratio(df_pfs_returns).sort_values(ascending=False)\n",
    "psr = probabilistic_sharpe_ratio(returns=df_pfs_returns, sr_benchmark=benchmark_sharpe_ratio).sort_values(ascending=False)\n",
    "\n",
    "# Find the portfolio numbers with the best Sharpe Ratios\n",
    "denoised_clustered_backtest_portfolio_numbers = psr.index[:5]  # Considering the top 5 best Sharpe Ratios\n",
    "\n",
    "# Filter the weights DataFrame to include only the best portfolios\n",
    "denoised_clustered_backtest_portfolio_weights_df = denoised_clustered_backtest_weights_df.loc[denoised_clustered_backtest_portfolio_numbers]\n",
    "\n",
    "# Display the DataFrame with weights for the best portfolios\n",
    "denoised_clustered_backtest_psr_pf_name = probabilistic_sharpe_ratio(returns=df_pfs_returns, sr_benchmark=0.0361).sort_values(ascending=False).index[0]\n",
    "denoised_clustered_backtest_psr_pf_returns = df_pfs_returns[denoised_clustered_backtest_psr_pf_name]\n",
    "denoised_clustered_backtest_portfolio_weights = denoised_clustered_backtest_weights_df.loc[denoised_clustered_backtest_psr_pf_name]\n",
    "denoised_clustered_backtestdsr = deflated_sharpe_ratio(trials_returns=df_pfs_returns, returns_selected=denoised_clustered_backtest_psr_pf_returns)\n",
    "print(\"Deflated Sharpe Ratio: \", denoised_clustered_backtestdsr)"
   ]
  },
  {
   "cell_type": "code",
   "execution_count": 370,
   "id": "6bf6fad2",
   "metadata": {},
   "outputs": [
    {
     "data": {
      "image/png": "[encoded data removed]",
      "text/plain": [
       "<Figure size 700x300 with 1 Axes>"
      ]
     },
     "metadata": {},
     "output_type": "display_data"
    },
    {
     "name": "stdout",
     "output_type": "stream",
     "text": [
      "ASIANPAINT.NS    0.198433\n",
      "BAJAJFINSV.NS    0.025854\n",
      "DRREDDY.NS       0.244276\n",
      "HDFCBANK.NS      0.333003\n",
      "TCS.NS           0.198433\n",
      "Name: 421, dtype: float64\n"
     ]
    }
   ],
   "source": [
    "plot_weights(denoised_clustered_backtest_portfolio_weights, 'Denoised, Clustered & Backtested Portfolio Weights')\n",
    "print(denoised_clustered_backtest_portfolio_weights)"
   ]
  },
  {
   "cell_type": "code",
   "execution_count": 371,
   "id": "c439dc94",
   "metadata": {},
   "outputs": [],
   "source": [
    "# Denoised Clustered & Backtested\n",
    "results = calc_model_returns(returns, denoised_clustered_backtest_portfolio_weights)\n",
    "# Store the results in the DataFrame\n",
    "store_results('Denoised Clustered & Backtested', denoised_clustered_backtest_portfolio_weights, results)"
   ]
  },
  {
   "cell_type": "code",
   "execution_count": 372,
   "id": "c407422a",
   "metadata": {},
   "outputs": [
    {
     "data": {
      "text/html": [
       "<div>\n",
       "<style scoped>\n",
       "    .dataframe tbody tr th:only-of-type {\n",
       "        vertical-align: middle;\n",
       "    }\n",
       "\n",
       "    .dataframe tbody tr th {\n",
       "        vertical-align: top;\n",
       "    }\n",
       "\n",
       "    .dataframe thead th {\n",
       "        text-align: right;\n",
       "    }\n",
       "</style>\n",
       "<table border=\"1\" class=\"dataframe\">\n",
       "  <thead>\n",
       "    <tr style=\"text-align: right;\">\n",
       "      <th></th>\n",
       "      <th>Model</th>\n",
       "      <th>AsianPaint Wt.</th>\n",
       "      <th>BajajFinSv Wt.</th>\n",
       "      <th>DrReddy Wt.</th>\n",
       "      <th>HDFCBank Wt.</th>\n",
       "      <th>TCS Wt.</th>\n",
       "      <th>Port. Returns%</th>\n",
       "      <th>Sharpe Ratio</th>\n",
       "      <th>Std Dev</th>\n",
       "      <th>Max Drawdown</th>\n",
       "      <th>Sortino Ratio</th>\n",
       "    </tr>\n",
       "  </thead>\n",
       "  <tbody>\n",
       "    <tr>\n",
       "      <th>0</th>\n",
       "      <td>GWP2[Optimal+BL+Kelly]</td>\n",
       "      <td>0.2300</td>\n",
       "      <td>0.0600</td>\n",
       "      <td>0.4800</td>\n",
       "      <td>0.0500</td>\n",
       "      <td>0.1800</td>\n",
       "      <td>2.8747</td>\n",
       "      <td>0.0081</td>\n",
       "      <td>0.2742</td>\n",
       "      <td>-0.0106</td>\n",
       "      <td>1.1873</td>\n",
       "    </tr>\n",
       "    <tr>\n",
       "      <th>1</th>\n",
       "      <td>Denoised</td>\n",
       "      <td>0.1805</td>\n",
       "      <td>0.1699</td>\n",
       "      <td>0.2902</td>\n",
       "      <td>0.1842</td>\n",
       "      <td>0.1752</td>\n",
       "      <td>2.3723</td>\n",
       "      <td>0.0068</td>\n",
       "      <td>0.2679</td>\n",
       "      <td>-0.0097</td>\n",
       "      <td>0.5627</td>\n",
       "    </tr>\n",
       "    <tr>\n",
       "      <th>2</th>\n",
       "      <td>Detoned</td>\n",
       "      <td>0.2073</td>\n",
       "      <td>0.2057</td>\n",
       "      <td>0.1727</td>\n",
       "      <td>0.2068</td>\n",
       "      <td>0.2075</td>\n",
       "      <td>2.0217</td>\n",
       "      <td>0.0068</td>\n",
       "      <td>0.2287</td>\n",
       "      <td>-0.0098</td>\n",
       "      <td>0.5400</td>\n",
       "    </tr>\n",
       "    <tr>\n",
       "      <th>3</th>\n",
       "      <td>Clustered</td>\n",
       "      <td>0.2138</td>\n",
       "      <td>0.0226</td>\n",
       "      <td>0.2984</td>\n",
       "      <td>0.1737</td>\n",
       "      <td>0.2915</td>\n",
       "      <td>2.4442</td>\n",
       "      <td>0.0079</td>\n",
       "      <td>0.2382</td>\n",
       "      <td>-0.0127</td>\n",
       "      <td>0.4737</td>\n",
       "    </tr>\n",
       "    <tr>\n",
       "      <th>4</th>\n",
       "      <td>Backtested</td>\n",
       "      <td>0.1513</td>\n",
       "      <td>0.1849</td>\n",
       "      <td>0.0924</td>\n",
       "      <td>0.2857</td>\n",
       "      <td>0.2857</td>\n",
       "      <td>1.9242</td>\n",
       "      <td>0.0074</td>\n",
       "      <td>0.2010</td>\n",
       "      <td>-0.0116</td>\n",
       "      <td>0.4481</td>\n",
       "    </tr>\n",
       "    <tr>\n",
       "      <th>5</th>\n",
       "      <td>Denoised &amp; Clustered</td>\n",
       "      <td>0.2138</td>\n",
       "      <td>0.0226</td>\n",
       "      <td>0.2984</td>\n",
       "      <td>0.1737</td>\n",
       "      <td>0.2915</td>\n",
       "      <td>2.4442</td>\n",
       "      <td>0.0079</td>\n",
       "      <td>0.2382</td>\n",
       "      <td>-0.0127</td>\n",
       "      <td>0.4737</td>\n",
       "    </tr>\n",
       "    <tr>\n",
       "      <th>6</th>\n",
       "      <td>Denoised &amp; Backtested</td>\n",
       "      <td>0.2913</td>\n",
       "      <td>0.1705</td>\n",
       "      <td>0.1759</td>\n",
       "      <td>0.1812</td>\n",
       "      <td>0.1812</td>\n",
       "      <td>1.8745</td>\n",
       "      <td>0.0071</td>\n",
       "      <td>0.2054</td>\n",
       "      <td>-0.0094</td>\n",
       "      <td>0.4349</td>\n",
       "    </tr>\n",
       "    <tr>\n",
       "      <th>7</th>\n",
       "      <td>Clustered &amp; Backtested</td>\n",
       "      <td>0.2490</td>\n",
       "      <td>0.1785</td>\n",
       "      <td>0.1785</td>\n",
       "      <td>0.1450</td>\n",
       "      <td>0.2490</td>\n",
       "      <td>2.0325</td>\n",
       "      <td>0.0074</td>\n",
       "      <td>0.2125</td>\n",
       "      <td>-0.0106</td>\n",
       "      <td>0.4654</td>\n",
       "    </tr>\n",
       "    <tr>\n",
       "      <th>8</th>\n",
       "      <td>Denoised Clustered &amp; Backtested</td>\n",
       "      <td>0.1984</td>\n",
       "      <td>0.0259</td>\n",
       "      <td>0.2443</td>\n",
       "      <td>0.3330</td>\n",
       "      <td>0.1984</td>\n",
       "      <td>2.1598</td>\n",
       "      <td>0.0071</td>\n",
       "      <td>0.2347</td>\n",
       "      <td>-0.0109</td>\n",
       "      <td>0.5028</td>\n",
       "    </tr>\n",
       "  </tbody>\n",
       "</table>\n",
       "</div>"
      ],
      "text/plain": [
       "                             Model  AsianPaint Wt.  BajajFinSv Wt.  \\\n",
       "0           GWP2[Optimal+BL+Kelly]          0.2300          0.0600   \n",
       "1                         Denoised          0.1805          0.1699   \n",
       "2                          Detoned          0.2073          0.2057   \n",
       "3                        Clustered          0.2138          0.0226   \n",
       "4                       Backtested          0.1513          0.1849   \n",
       "5             Denoised & Clustered          0.2138          0.0226   \n",
       "6            Denoised & Backtested          0.2913          0.1705   \n",
       "7           Clustered & Backtested          0.2490          0.1785   \n",
       "8  Denoised Clustered & Backtested          0.1984          0.0259   \n",
       "\n",
       "   DrReddy Wt.  HDFCBank Wt.  TCS Wt.  Port. Returns%  Sharpe Ratio  Std Dev  \\\n",
       "0       0.4800        0.0500   0.1800          2.8747        0.0081   0.2742   \n",
       "1       0.2902        0.1842   0.1752          2.3723        0.0068   0.2679   \n",
       "2       0.1727        0.2068   0.2075          2.0217        0.0068   0.2287   \n",
       "3       0.2984        0.1737   0.2915          2.4442        0.0079   0.2382   \n",
       "4       0.0924        0.2857   0.2857          1.9242        0.0074   0.2010   \n",
       "5       0.2984        0.1737   0.2915          2.4442        0.0079   0.2382   \n",
       "6       0.1759        0.1812   0.1812          1.8745        0.0071   0.2054   \n",
       "7       0.1785        0.1450   0.2490          2.0325        0.0074   0.2125   \n",
       "8       0.2443        0.3330   0.1984          2.1598        0.0071   0.2347   \n",
       "\n",
       "   Max Drawdown  Sortino Ratio  \n",
       "0       -0.0106         1.1873  \n",
       "1       -0.0097         0.5627  \n",
       "2       -0.0098         0.5400  \n",
       "3       -0.0127         0.4737  \n",
       "4       -0.0116         0.4481  \n",
       "5       -0.0127         0.4737  \n",
       "6       -0.0094         0.4349  \n",
       "7       -0.0106         0.4654  \n",
       "8       -0.0109         0.5028  "
      ]
     },
     "execution_count": 372,
     "metadata": {},
     "output_type": "execute_result"
    }
   ],
   "source": [
    "model_test_df"
   ]
  },
  {
   "cell_type": "markdown",
   "id": "0e062618",
   "metadata": {},
   "source": [
    "When compared to the ‘best’ portfolio in terms of superior risk-reward ratio, the GWP2 combined model of MVO+BL+Kelly still stands out compared to any of the models developed by denoising, clustering or backtesting.</br>\n",
    "Models based on clustering is next based, followed by denoising and then backtesting.</br></br>\n",
    "Constraining the exercise to 5 stocks and testing the models over a small period of 14 days may not have been sufficient to train and then test the model. Yet clustering and denoising is pretty close to the best portfolio. Backtesting in its nature is conservative in approach to remove effects of “sins”. Backtesting models are less volatile and that is the only metric in its favour.</br></br>\n",
    "This exercise does not provide evidence that the complexity of building the models justify the effort for a risk-taking investor. However, this exercise is worthy to be carried out for risk-averse investor."
   ]
  },
  {
   "cell_type": "markdown",
   "id": "bc0006c5",
   "metadata": {},
   "source": [
    "#### Conclusion:"
   ]
  },
  {
   "cell_type": "markdown",
   "id": "a52df4de",
   "metadata": {},
   "source": [
    "The exercise was conducted using only one type of asset which were stocks. Other constraints like the number of assets and the testing time period also may have affected the observed outcomes.</br>\n",
    "The models are complex and application of those tend to make the portfolio constructed more balanced for risk-nuetral and risk-averse institutions and investors.</br></br>\n",
    "Using correlation and covariance matrix to develop the model is a good approach for quants and financial engineers. In terms of interpretability the change in allocation is a good way to show the outcome. However, explaining the why is tad bit difficult and will require more visualization that we could use in this assignment.</br></br>\n",
    "There is a appreciable observable difference in results using these models, although in terms of performance it did not improve to the model explored earlier in GWP2. Notwithstanding the constraints, these models do have merit and it is worth the effort for financial engineers and serious investors."
   ]
  },
  {
   "cell_type": "markdown",
   "id": "0018b966",
   "metadata": {},
   "source": [
    "### Reference & Code credit:"
   ]
  },
  {
   "cell_type": "markdown",
   "id": "706dfcf5",
   "metadata": {},
   "source": [
    "Denoising & Clustering Code:</br>\n",
    "https://github.com/emoen/Machine-Learning-for-Asset-Managers</br>\n",
    "Implementation of code snippets and exercises from Machine Learning for Asset Managers (Elements in Quantitative Finance) written by Prof. Marcos López de Prado."
   ]
  },
  {
   "cell_type": "markdown",
   "id": "22e7c538",
   "metadata": {},
   "source": [
    "Backtesting Code:</br>\n",
    "https://github.com/rubenbriones/Probabilistic-Sharpe-Ratio/tree/master</br>\n",
    "Probabilistic Sharpe Ratio example in Python (by Marcos López de Prado)"
   ]
  },
  {
   "cell_type": "code",
   "execution_count": null,
   "id": "b02d7a9b",
   "metadata": {},
   "outputs": [],
   "source": []
  }
 ],
 "metadata": {
  "kernelspec": {
   "display_name": "Python 3 (ipykernel)",
   "language": "python",
   "name": "python3"
  },
  "language_info": {
   "codemirror_mode": {
    "name": "ipython",
    "version": 3
   },
   "file_extension": ".py",
   "mimetype": "text/x-python",
   "name": "python",
   "nbconvert_exporter": "python",
   "pygments_lexer": "ipython3",
   "version": "3.10.9"
  }
 },
 "nbformat": 4,
 "nbformat_minor": 5
}
